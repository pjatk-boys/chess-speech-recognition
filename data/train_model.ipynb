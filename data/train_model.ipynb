{
 "nbformat": 4,
 "nbformat_minor": 0,
 "metadata": {
  "colab": {
   "provenance": []
  },
  "kernelspec": {
   "name": "python3",
   "display_name": "Python 3"
  },
  "language_info": {
   "name": "python"
  },
  "accelerator": "GPU",
  "gpuClass": "standard",
  "widgets": {
   "application/vnd.jupyter.widget-state+json": {
    "637badebb7f147a286d59d466a6410f7": {
     "model_module": "@jupyter-widgets/controls",
     "model_name": "HBoxModel",
     "model_module_version": "1.5.0",
     "state": {
      "_dom_classes": [],
      "_model_module": "@jupyter-widgets/controls",
      "_model_module_version": "1.5.0",
      "_model_name": "HBoxModel",
      "_view_count": null,
      "_view_module": "@jupyter-widgets/controls",
      "_view_module_version": "1.5.0",
      "_view_name": "HBoxView",
      "box_style": "",
      "children": [
       "IPY_MODEL_875260459ef9493b8200dfffcaf71bdc",
       "IPY_MODEL_97ed02af69804e69a5a49e90ddc1aab8",
       "IPY_MODEL_fa26c300fe294d95b75475f3791e8372"
      ],
      "layout": "IPY_MODEL_89bf3d8bc2a14dff95755e64afc9d078"
     }
    },
    "875260459ef9493b8200dfffcaf71bdc": {
     "model_module": "@jupyter-widgets/controls",
     "model_name": "HTMLModel",
     "model_module_version": "1.5.0",
     "state": {
      "_dom_classes": [],
      "_model_module": "@jupyter-widgets/controls",
      "_model_module_version": "1.5.0",
      "_model_name": "HTMLModel",
      "_view_count": null,
      "_view_module": "@jupyter-widgets/controls",
      "_view_module_version": "1.5.0",
      "_view_name": "HTMLView",
      "description": "",
      "description_tooltip": null,
      "layout": "IPY_MODEL_c051439e1dba462c912c2557833d0901",
      "placeholder": "​",
      "style": "IPY_MODEL_3f87151a51eb4c31a872e45dcf7b95a8",
      "value": "Downloading: 100%"
     }
    },
    "97ed02af69804e69a5a49e90ddc1aab8": {
     "model_module": "@jupyter-widgets/controls",
     "model_name": "FloatProgressModel",
     "model_module_version": "1.5.0",
     "state": {
      "_dom_classes": [],
      "_model_module": "@jupyter-widgets/controls",
      "_model_module_version": "1.5.0",
      "_model_name": "FloatProgressModel",
      "_view_count": null,
      "_view_module": "@jupyter-widgets/controls",
      "_view_module_version": "1.5.0",
      "_view_name": "ProgressView",
      "bar_style": "success",
      "description": "",
      "description_tooltip": null,
      "layout": "IPY_MODEL_30aea8db91b041979a0c56bcccb46855",
      "max": 213,
      "min": 0,
      "orientation": "horizontal",
      "style": "IPY_MODEL_872a01cf3237406daa3cc58e3765ead1",
      "value": 213
     }
    },
    "fa26c300fe294d95b75475f3791e8372": {
     "model_module": "@jupyter-widgets/controls",
     "model_name": "HTMLModel",
     "model_module_version": "1.5.0",
     "state": {
      "_dom_classes": [],
      "_model_module": "@jupyter-widgets/controls",
      "_model_module_version": "1.5.0",
      "_model_name": "HTMLModel",
      "_view_count": null,
      "_view_module": "@jupyter-widgets/controls",
      "_view_module_version": "1.5.0",
      "_view_name": "HTMLView",
      "description": "",
      "description_tooltip": null,
      "layout": "IPY_MODEL_5ad947dba54842338792eee4c6384ef3",
      "placeholder": "​",
      "style": "IPY_MODEL_a28696fa1b4a46edadfdc87656d3b392",
      "value": " 213/213 [00:00&lt;00:00, 2.09kB/s]"
     }
    },
    "89bf3d8bc2a14dff95755e64afc9d078": {
     "model_module": "@jupyter-widgets/base",
     "model_name": "LayoutModel",
     "model_module_version": "1.2.0",
     "state": {
      "_model_module": "@jupyter-widgets/base",
      "_model_module_version": "1.2.0",
      "_model_name": "LayoutModel",
      "_view_count": null,
      "_view_module": "@jupyter-widgets/base",
      "_view_module_version": "1.2.0",
      "_view_name": "LayoutView",
      "align_content": null,
      "align_items": null,
      "align_self": null,
      "border": null,
      "bottom": null,
      "display": null,
      "flex": null,
      "flex_flow": null,
      "grid_area": null,
      "grid_auto_columns": null,
      "grid_auto_flow": null,
      "grid_auto_rows": null,
      "grid_column": null,
      "grid_gap": null,
      "grid_row": null,
      "grid_template_areas": null,
      "grid_template_columns": null,
      "grid_template_rows": null,
      "height": null,
      "justify_content": null,
      "justify_items": null,
      "left": null,
      "margin": null,
      "max_height": null,
      "max_width": null,
      "min_height": null,
      "min_width": null,
      "object_fit": null,
      "object_position": null,
      "order": null,
      "overflow": null,
      "overflow_x": null,
      "overflow_y": null,
      "padding": null,
      "right": null,
      "top": null,
      "visibility": null,
      "width": null
     }
    },
    "c051439e1dba462c912c2557833d0901": {
     "model_module": "@jupyter-widgets/base",
     "model_name": "LayoutModel",
     "model_module_version": "1.2.0",
     "state": {
      "_model_module": "@jupyter-widgets/base",
      "_model_module_version": "1.2.0",
      "_model_name": "LayoutModel",
      "_view_count": null,
      "_view_module": "@jupyter-widgets/base",
      "_view_module_version": "1.2.0",
      "_view_name": "LayoutView",
      "align_content": null,
      "align_items": null,
      "align_self": null,
      "border": null,
      "bottom": null,
      "display": null,
      "flex": null,
      "flex_flow": null,
      "grid_area": null,
      "grid_auto_columns": null,
      "grid_auto_flow": null,
      "grid_auto_rows": null,
      "grid_column": null,
      "grid_gap": null,
      "grid_row": null,
      "grid_template_areas": null,
      "grid_template_columns": null,
      "grid_template_rows": null,
      "height": null,
      "justify_content": null,
      "justify_items": null,
      "left": null,
      "margin": null,
      "max_height": null,
      "max_width": null,
      "min_height": null,
      "min_width": null,
      "object_fit": null,
      "object_position": null,
      "order": null,
      "overflow": null,
      "overflow_x": null,
      "overflow_y": null,
      "padding": null,
      "right": null,
      "top": null,
      "visibility": null,
      "width": null
     }
    },
    "3f87151a51eb4c31a872e45dcf7b95a8": {
     "model_module": "@jupyter-widgets/controls",
     "model_name": "DescriptionStyleModel",
     "model_module_version": "1.5.0",
     "state": {
      "_model_module": "@jupyter-widgets/controls",
      "_model_module_version": "1.5.0",
      "_model_name": "DescriptionStyleModel",
      "_view_count": null,
      "_view_module": "@jupyter-widgets/base",
      "_view_module_version": "1.2.0",
      "_view_name": "StyleView",
      "description_width": ""
     }
    },
    "30aea8db91b041979a0c56bcccb46855": {
     "model_module": "@jupyter-widgets/base",
     "model_name": "LayoutModel",
     "model_module_version": "1.2.0",
     "state": {
      "_model_module": "@jupyter-widgets/base",
      "_model_module_version": "1.2.0",
      "_model_name": "LayoutModel",
      "_view_count": null,
      "_view_module": "@jupyter-widgets/base",
      "_view_module_version": "1.2.0",
      "_view_name": "LayoutView",
      "align_content": null,
      "align_items": null,
      "align_self": null,
      "border": null,
      "bottom": null,
      "display": null,
      "flex": null,
      "flex_flow": null,
      "grid_area": null,
      "grid_auto_columns": null,
      "grid_auto_flow": null,
      "grid_auto_rows": null,
      "grid_column": null,
      "grid_gap": null,
      "grid_row": null,
      "grid_template_areas": null,
      "grid_template_columns": null,
      "grid_template_rows": null,
      "height": null,
      "justify_content": null,
      "justify_items": null,
      "left": null,
      "margin": null,
      "max_height": null,
      "max_width": null,
      "min_height": null,
      "min_width": null,
      "object_fit": null,
      "object_position": null,
      "order": null,
      "overflow": null,
      "overflow_x": null,
      "overflow_y": null,
      "padding": null,
      "right": null,
      "top": null,
      "visibility": null,
      "width": null
     }
    },
    "872a01cf3237406daa3cc58e3765ead1": {
     "model_module": "@jupyter-widgets/controls",
     "model_name": "ProgressStyleModel",
     "model_module_version": "1.5.0",
     "state": {
      "_model_module": "@jupyter-widgets/controls",
      "_model_module_version": "1.5.0",
      "_model_name": "ProgressStyleModel",
      "_view_count": null,
      "_view_module": "@jupyter-widgets/base",
      "_view_module_version": "1.2.0",
      "_view_name": "StyleView",
      "bar_color": null,
      "description_width": ""
     }
    },
    "5ad947dba54842338792eee4c6384ef3": {
     "model_module": "@jupyter-widgets/base",
     "model_name": "LayoutModel",
     "model_module_version": "1.2.0",
     "state": {
      "_model_module": "@jupyter-widgets/base",
      "_model_module_version": "1.2.0",
      "_model_name": "LayoutModel",
      "_view_count": null,
      "_view_module": "@jupyter-widgets/base",
      "_view_module_version": "1.2.0",
      "_view_name": "LayoutView",
      "align_content": null,
      "align_items": null,
      "align_self": null,
      "border": null,
      "bottom": null,
      "display": null,
      "flex": null,
      "flex_flow": null,
      "grid_area": null,
      "grid_auto_columns": null,
      "grid_auto_flow": null,
      "grid_auto_rows": null,
      "grid_column": null,
      "grid_gap": null,
      "grid_row": null,
      "grid_template_areas": null,
      "grid_template_columns": null,
      "grid_template_rows": null,
      "height": null,
      "justify_content": null,
      "justify_items": null,
      "left": null,
      "margin": null,
      "max_height": null,
      "max_width": null,
      "min_height": null,
      "min_width": null,
      "object_fit": null,
      "object_position": null,
      "order": null,
      "overflow": null,
      "overflow_x": null,
      "overflow_y": null,
      "padding": null,
      "right": null,
      "top": null,
      "visibility": null,
      "width": null
     }
    },
    "a28696fa1b4a46edadfdc87656d3b392": {
     "model_module": "@jupyter-widgets/controls",
     "model_name": "DescriptionStyleModel",
     "model_module_version": "1.5.0",
     "state": {
      "_model_module": "@jupyter-widgets/controls",
      "_model_module_version": "1.5.0",
      "_model_name": "DescriptionStyleModel",
      "_view_count": null,
      "_view_module": "@jupyter-widgets/base",
      "_view_module_version": "1.2.0",
      "_view_name": "StyleView",
      "description_width": ""
     }
    },
    "75fb0fecf3b047beb2a0f49f450cfef0": {
     "model_module": "@jupyter-widgets/controls",
     "model_name": "HBoxModel",
     "model_module_version": "1.5.0",
     "state": {
      "_dom_classes": [],
      "_model_module": "@jupyter-widgets/controls",
      "_model_module_version": "1.5.0",
      "_model_name": "HBoxModel",
      "_view_count": null,
      "_view_module": "@jupyter-widgets/controls",
      "_view_module_version": "1.5.0",
      "_view_name": "HBoxView",
      "box_style": "",
      "children": [
       "IPY_MODEL_c56b6c3d93204c55b489943d6a2c37a8",
       "IPY_MODEL_d60734bab47a49c987942e51898ed730",
       "IPY_MODEL_6bc7287e87a142c0aa97b0971b773e41"
      ],
      "layout": "IPY_MODEL_90892a2e6ded481daab4e2341d71beba"
     }
    },
    "c56b6c3d93204c55b489943d6a2c37a8": {
     "model_module": "@jupyter-widgets/controls",
     "model_name": "HTMLModel",
     "model_module_version": "1.5.0",
     "state": {
      "_dom_classes": [],
      "_model_module": "@jupyter-widgets/controls",
      "_model_module_version": "1.5.0",
      "_model_name": "HTMLModel",
      "_view_count": null,
      "_view_module": "@jupyter-widgets/controls",
      "_view_module_version": "1.5.0",
      "_view_name": "HTMLView",
      "description": "",
      "description_tooltip": null,
      "layout": "IPY_MODEL_85ff1330ad5a448dbc049f2f0ffdbc2a",
      "placeholder": "​",
      "style": "IPY_MODEL_e95075f6d807446285b4951c2aeaa73e",
      "value": "Downloading: 100%"
     }
    },
    "d60734bab47a49c987942e51898ed730": {
     "model_module": "@jupyter-widgets/controls",
     "model_name": "FloatProgressModel",
     "model_module_version": "1.5.0",
     "state": {
      "_dom_classes": [],
      "_model_module": "@jupyter-widgets/controls",
      "_model_module_version": "1.5.0",
      "_model_name": "FloatProgressModel",
      "_view_count": null,
      "_view_module": "@jupyter-widgets/controls",
      "_view_module_version": "1.5.0",
      "_view_name": "ProgressView",
      "bar_style": "success",
      "description": "",
      "description_tooltip": null,
      "layout": "IPY_MODEL_698d9320b6a44e5abf7a80b6ccb643c3",
      "max": 138,
      "min": 0,
      "orientation": "horizontal",
      "style": "IPY_MODEL_3c22247365a8400d8cc82c3d392e49c9",
      "value": 138
     }
    },
    "6bc7287e87a142c0aa97b0971b773e41": {
     "model_module": "@jupyter-widgets/controls",
     "model_name": "HTMLModel",
     "model_module_version": "1.5.0",
     "state": {
      "_dom_classes": [],
      "_model_module": "@jupyter-widgets/controls",
      "_model_module_version": "1.5.0",
      "_model_name": "HTMLModel",
      "_view_count": null,
      "_view_module": "@jupyter-widgets/controls",
      "_view_module_version": "1.5.0",
      "_view_name": "HTMLView",
      "description": "",
      "description_tooltip": null,
      "layout": "IPY_MODEL_381f4b0b0835484f9eaa601e946dd12e",
      "placeholder": "​",
      "style": "IPY_MODEL_b48898110bda45b79d4c9aefa86c5db6",
      "value": " 138/138 [00:00&lt;00:00, 1.23kB/s]"
     }
    },
    "90892a2e6ded481daab4e2341d71beba": {
     "model_module": "@jupyter-widgets/base",
     "model_name": "LayoutModel",
     "model_module_version": "1.2.0",
     "state": {
      "_model_module": "@jupyter-widgets/base",
      "_model_module_version": "1.2.0",
      "_model_name": "LayoutModel",
      "_view_count": null,
      "_view_module": "@jupyter-widgets/base",
      "_view_module_version": "1.2.0",
      "_view_name": "LayoutView",
      "align_content": null,
      "align_items": null,
      "align_self": null,
      "border": null,
      "bottom": null,
      "display": null,
      "flex": null,
      "flex_flow": null,
      "grid_area": null,
      "grid_auto_columns": null,
      "grid_auto_flow": null,
      "grid_auto_rows": null,
      "grid_column": null,
      "grid_gap": null,
      "grid_row": null,
      "grid_template_areas": null,
      "grid_template_columns": null,
      "grid_template_rows": null,
      "height": null,
      "justify_content": null,
      "justify_items": null,
      "left": null,
      "margin": null,
      "max_height": null,
      "max_width": null,
      "min_height": null,
      "min_width": null,
      "object_fit": null,
      "object_position": null,
      "order": null,
      "overflow": null,
      "overflow_x": null,
      "overflow_y": null,
      "padding": null,
      "right": null,
      "top": null,
      "visibility": null,
      "width": null
     }
    },
    "85ff1330ad5a448dbc049f2f0ffdbc2a": {
     "model_module": "@jupyter-widgets/base",
     "model_name": "LayoutModel",
     "model_module_version": "1.2.0",
     "state": {
      "_model_module": "@jupyter-widgets/base",
      "_model_module_version": "1.2.0",
      "_model_name": "LayoutModel",
      "_view_count": null,
      "_view_module": "@jupyter-widgets/base",
      "_view_module_version": "1.2.0",
      "_view_name": "LayoutView",
      "align_content": null,
      "align_items": null,
      "align_self": null,
      "border": null,
      "bottom": null,
      "display": null,
      "flex": null,
      "flex_flow": null,
      "grid_area": null,
      "grid_auto_columns": null,
      "grid_auto_flow": null,
      "grid_auto_rows": null,
      "grid_column": null,
      "grid_gap": null,
      "grid_row": null,
      "grid_template_areas": null,
      "grid_template_columns": null,
      "grid_template_rows": null,
      "height": null,
      "justify_content": null,
      "justify_items": null,
      "left": null,
      "margin": null,
      "max_height": null,
      "max_width": null,
      "min_height": null,
      "min_width": null,
      "object_fit": null,
      "object_position": null,
      "order": null,
      "overflow": null,
      "overflow_x": null,
      "overflow_y": null,
      "padding": null,
      "right": null,
      "top": null,
      "visibility": null,
      "width": null
     }
    },
    "e95075f6d807446285b4951c2aeaa73e": {
     "model_module": "@jupyter-widgets/controls",
     "model_name": "DescriptionStyleModel",
     "model_module_version": "1.5.0",
     "state": {
      "_model_module": "@jupyter-widgets/controls",
      "_model_module_version": "1.5.0",
      "_model_name": "DescriptionStyleModel",
      "_view_count": null,
      "_view_module": "@jupyter-widgets/base",
      "_view_module_version": "1.2.0",
      "_view_name": "StyleView",
      "description_width": ""
     }
    },
    "698d9320b6a44e5abf7a80b6ccb643c3": {
     "model_module": "@jupyter-widgets/base",
     "model_name": "LayoutModel",
     "model_module_version": "1.2.0",
     "state": {
      "_model_module": "@jupyter-widgets/base",
      "_model_module_version": "1.2.0",
      "_model_name": "LayoutModel",
      "_view_count": null,
      "_view_module": "@jupyter-widgets/base",
      "_view_module_version": "1.2.0",
      "_view_name": "LayoutView",
      "align_content": null,
      "align_items": null,
      "align_self": null,
      "border": null,
      "bottom": null,
      "display": null,
      "flex": null,
      "flex_flow": null,
      "grid_area": null,
      "grid_auto_columns": null,
      "grid_auto_flow": null,
      "grid_auto_rows": null,
      "grid_column": null,
      "grid_gap": null,
      "grid_row": null,
      "grid_template_areas": null,
      "grid_template_columns": null,
      "grid_template_rows": null,
      "height": null,
      "justify_content": null,
      "justify_items": null,
      "left": null,
      "margin": null,
      "max_height": null,
      "max_width": null,
      "min_height": null,
      "min_width": null,
      "object_fit": null,
      "object_position": null,
      "order": null,
      "overflow": null,
      "overflow_x": null,
      "overflow_y": null,
      "padding": null,
      "right": null,
      "top": null,
      "visibility": null,
      "width": null
     }
    },
    "3c22247365a8400d8cc82c3d392e49c9": {
     "model_module": "@jupyter-widgets/controls",
     "model_name": "ProgressStyleModel",
     "model_module_version": "1.5.0",
     "state": {
      "_model_module": "@jupyter-widgets/controls",
      "_model_module_version": "1.5.0",
      "_model_name": "ProgressStyleModel",
      "_view_count": null,
      "_view_module": "@jupyter-widgets/base",
      "_view_module_version": "1.2.0",
      "_view_name": "StyleView",
      "bar_color": null,
      "description_width": ""
     }
    },
    "381f4b0b0835484f9eaa601e946dd12e": {
     "model_module": "@jupyter-widgets/base",
     "model_name": "LayoutModel",
     "model_module_version": "1.2.0",
     "state": {
      "_model_module": "@jupyter-widgets/base",
      "_model_module_version": "1.2.0",
      "_model_name": "LayoutModel",
      "_view_count": null,
      "_view_module": "@jupyter-widgets/base",
      "_view_module_version": "1.2.0",
      "_view_name": "LayoutView",
      "align_content": null,
      "align_items": null,
      "align_self": null,
      "border": null,
      "bottom": null,
      "display": null,
      "flex": null,
      "flex_flow": null,
      "grid_area": null,
      "grid_auto_columns": null,
      "grid_auto_flow": null,
      "grid_auto_rows": null,
      "grid_column": null,
      "grid_gap": null,
      "grid_row": null,
      "grid_template_areas": null,
      "grid_template_columns": null,
      "grid_template_rows": null,
      "height": null,
      "justify_content": null,
      "justify_items": null,
      "left": null,
      "margin": null,
      "max_height": null,
      "max_width": null,
      "min_height": null,
      "min_width": null,
      "object_fit": null,
      "object_position": null,
      "order": null,
      "overflow": null,
      "overflow_x": null,
      "overflow_y": null,
      "padding": null,
      "right": null,
      "top": null,
      "visibility": null,
      "width": null
     }
    },
    "b48898110bda45b79d4c9aefa86c5db6": {
     "model_module": "@jupyter-widgets/controls",
     "model_name": "DescriptionStyleModel",
     "model_module_version": "1.5.0",
     "state": {
      "_model_module": "@jupyter-widgets/controls",
      "_model_module_version": "1.5.0",
      "_model_name": "DescriptionStyleModel",
      "_view_count": null,
      "_view_module": "@jupyter-widgets/base",
      "_view_module_version": "1.2.0",
      "_view_name": "StyleView",
      "description_width": ""
     }
    },
    "8dfeca85d6c441aab210d0b3a6cdb920": {
     "model_module": "@jupyter-widgets/controls",
     "model_name": "HBoxModel",
     "model_module_version": "1.5.0",
     "state": {
      "_dom_classes": [],
      "_model_module": "@jupyter-widgets/controls",
      "_model_module_version": "1.5.0",
      "_model_name": "HBoxModel",
      "_view_count": null,
      "_view_module": "@jupyter-widgets/controls",
      "_view_module_version": "1.5.0",
      "_view_name": "HBoxView",
      "box_style": "",
      "children": [
       "IPY_MODEL_10b216e506a04a21938fa6355074b0a0",
       "IPY_MODEL_b3dd53c653e7404f8c12230c675a0986",
       "IPY_MODEL_4a391493e1504f8da650bafd5a683d61"
      ],
      "layout": "IPY_MODEL_6701ec70738f445c810db0a3938b034c"
     }
    },
    "10b216e506a04a21938fa6355074b0a0": {
     "model_module": "@jupyter-widgets/controls",
     "model_name": "HTMLModel",
     "model_module_version": "1.5.0",
     "state": {
      "_dom_classes": [],
      "_model_module": "@jupyter-widgets/controls",
      "_model_module_version": "1.5.0",
      "_model_name": "HTMLModel",
      "_view_count": null,
      "_view_module": "@jupyter-widgets/controls",
      "_view_module_version": "1.5.0",
      "_view_name": "HTMLView",
      "description": "",
      "description_tooltip": null,
      "layout": "IPY_MODEL_901c9a1b63b04fc38cc864775fabaf8e",
      "placeholder": "​",
      "style": "IPY_MODEL_72d5fb228c144313b81af9a1441c4f16",
      "value": "Downloading: 100%"
     }
    },
    "b3dd53c653e7404f8c12230c675a0986": {
     "model_module": "@jupyter-widgets/controls",
     "model_name": "FloatProgressModel",
     "model_module_version": "1.5.0",
     "state": {
      "_dom_classes": [],
      "_model_module": "@jupyter-widgets/controls",
      "_model_module_version": "1.5.0",
      "_model_name": "FloatProgressModel",
      "_view_count": null,
      "_view_module": "@jupyter-widgets/controls",
      "_view_module_version": "1.5.0",
      "_view_name": "ProgressView",
      "bar_style": "success",
      "description": "",
      "description_tooltip": null,
      "layout": "IPY_MODEL_b3bcd6d00b704fdcbe1149cd4e9910c4",
      "max": 1295,
      "min": 0,
      "orientation": "horizontal",
      "style": "IPY_MODEL_b51158d11e9f4b0385e7405516363e70",
      "value": 1295
     }
    },
    "4a391493e1504f8da650bafd5a683d61": {
     "model_module": "@jupyter-widgets/controls",
     "model_name": "HTMLModel",
     "model_module_version": "1.5.0",
     "state": {
      "_dom_classes": [],
      "_model_module": "@jupyter-widgets/controls",
      "_model_module_version": "1.5.0",
      "_model_name": "HTMLModel",
      "_view_count": null,
      "_view_module": "@jupyter-widgets/controls",
      "_view_module_version": "1.5.0",
      "_view_name": "HTMLView",
      "description": "",
      "description_tooltip": null,
      "layout": "IPY_MODEL_498dac3f11a9439bb39bdb89d540d65b",
      "placeholder": "​",
      "style": "IPY_MODEL_74e418ab5f124d93b98e54fe8fce0ede",
      "value": " 1.29k/1.29k [00:00&lt;00:00, 7.85kB/s]"
     }
    },
    "6701ec70738f445c810db0a3938b034c": {
     "model_module": "@jupyter-widgets/base",
     "model_name": "LayoutModel",
     "model_module_version": "1.2.0",
     "state": {
      "_model_module": "@jupyter-widgets/base",
      "_model_module_version": "1.2.0",
      "_model_name": "LayoutModel",
      "_view_count": null,
      "_view_module": "@jupyter-widgets/base",
      "_view_module_version": "1.2.0",
      "_view_name": "LayoutView",
      "align_content": null,
      "align_items": null,
      "align_self": null,
      "border": null,
      "bottom": null,
      "display": null,
      "flex": null,
      "flex_flow": null,
      "grid_area": null,
      "grid_auto_columns": null,
      "grid_auto_flow": null,
      "grid_auto_rows": null,
      "grid_column": null,
      "grid_gap": null,
      "grid_row": null,
      "grid_template_areas": null,
      "grid_template_columns": null,
      "grid_template_rows": null,
      "height": null,
      "justify_content": null,
      "justify_items": null,
      "left": null,
      "margin": null,
      "max_height": null,
      "max_width": null,
      "min_height": null,
      "min_width": null,
      "object_fit": null,
      "object_position": null,
      "order": null,
      "overflow": null,
      "overflow_x": null,
      "overflow_y": null,
      "padding": null,
      "right": null,
      "top": null,
      "visibility": null,
      "width": null
     }
    },
    "901c9a1b63b04fc38cc864775fabaf8e": {
     "model_module": "@jupyter-widgets/base",
     "model_name": "LayoutModel",
     "model_module_version": "1.2.0",
     "state": {
      "_model_module": "@jupyter-widgets/base",
      "_model_module_version": "1.2.0",
      "_model_name": "LayoutModel",
      "_view_count": null,
      "_view_module": "@jupyter-widgets/base",
      "_view_module_version": "1.2.0",
      "_view_name": "LayoutView",
      "align_content": null,
      "align_items": null,
      "align_self": null,
      "border": null,
      "bottom": null,
      "display": null,
      "flex": null,
      "flex_flow": null,
      "grid_area": null,
      "grid_auto_columns": null,
      "grid_auto_flow": null,
      "grid_auto_rows": null,
      "grid_column": null,
      "grid_gap": null,
      "grid_row": null,
      "grid_template_areas": null,
      "grid_template_columns": null,
      "grid_template_rows": null,
      "height": null,
      "justify_content": null,
      "justify_items": null,
      "left": null,
      "margin": null,
      "max_height": null,
      "max_width": null,
      "min_height": null,
      "min_width": null,
      "object_fit": null,
      "object_position": null,
      "order": null,
      "overflow": null,
      "overflow_x": null,
      "overflow_y": null,
      "padding": null,
      "right": null,
      "top": null,
      "visibility": null,
      "width": null
     }
    },
    "72d5fb228c144313b81af9a1441c4f16": {
     "model_module": "@jupyter-widgets/controls",
     "model_name": "DescriptionStyleModel",
     "model_module_version": "1.5.0",
     "state": {
      "_model_module": "@jupyter-widgets/controls",
      "_model_module_version": "1.5.0",
      "_model_name": "DescriptionStyleModel",
      "_view_count": null,
      "_view_module": "@jupyter-widgets/base",
      "_view_module_version": "1.2.0",
      "_view_name": "StyleView",
      "description_width": ""
     }
    },
    "b3bcd6d00b704fdcbe1149cd4e9910c4": {
     "model_module": "@jupyter-widgets/base",
     "model_name": "LayoutModel",
     "model_module_version": "1.2.0",
     "state": {
      "_model_module": "@jupyter-widgets/base",
      "_model_module_version": "1.2.0",
      "_model_name": "LayoutModel",
      "_view_count": null,
      "_view_module": "@jupyter-widgets/base",
      "_view_module_version": "1.2.0",
      "_view_name": "LayoutView",
      "align_content": null,
      "align_items": null,
      "align_self": null,
      "border": null,
      "bottom": null,
      "display": null,
      "flex": null,
      "flex_flow": null,
      "grid_area": null,
      "grid_auto_columns": null,
      "grid_auto_flow": null,
      "grid_auto_rows": null,
      "grid_column": null,
      "grid_gap": null,
      "grid_row": null,
      "grid_template_areas": null,
      "grid_template_columns": null,
      "grid_template_rows": null,
      "height": null,
      "justify_content": null,
      "justify_items": null,
      "left": null,
      "margin": null,
      "max_height": null,
      "max_width": null,
      "min_height": null,
      "min_width": null,
      "object_fit": null,
      "object_position": null,
      "order": null,
      "overflow": null,
      "overflow_x": null,
      "overflow_y": null,
      "padding": null,
      "right": null,
      "top": null,
      "visibility": null,
      "width": null
     }
    },
    "b51158d11e9f4b0385e7405516363e70": {
     "model_module": "@jupyter-widgets/controls",
     "model_name": "ProgressStyleModel",
     "model_module_version": "1.5.0",
     "state": {
      "_model_module": "@jupyter-widgets/controls",
      "_model_module_version": "1.5.0",
      "_model_name": "ProgressStyleModel",
      "_view_count": null,
      "_view_module": "@jupyter-widgets/base",
      "_view_module_version": "1.2.0",
      "_view_name": "StyleView",
      "bar_color": null,
      "description_width": ""
     }
    },
    "498dac3f11a9439bb39bdb89d540d65b": {
     "model_module": "@jupyter-widgets/base",
     "model_name": "LayoutModel",
     "model_module_version": "1.2.0",
     "state": {
      "_model_module": "@jupyter-widgets/base",
      "_model_module_version": "1.2.0",
      "_model_name": "LayoutModel",
      "_view_count": null,
      "_view_module": "@jupyter-widgets/base",
      "_view_module_version": "1.2.0",
      "_view_name": "LayoutView",
      "align_content": null,
      "align_items": null,
      "align_self": null,
      "border": null,
      "bottom": null,
      "display": null,
      "flex": null,
      "flex_flow": null,
      "grid_area": null,
      "grid_auto_columns": null,
      "grid_auto_flow": null,
      "grid_auto_rows": null,
      "grid_column": null,
      "grid_gap": null,
      "grid_row": null,
      "grid_template_areas": null,
      "grid_template_columns": null,
      "grid_template_rows": null,
      "height": null,
      "justify_content": null,
      "justify_items": null,
      "left": null,
      "margin": null,
      "max_height": null,
      "max_width": null,
      "min_height": null,
      "min_width": null,
      "object_fit": null,
      "object_position": null,
      "order": null,
      "overflow": null,
      "overflow_x": null,
      "overflow_y": null,
      "padding": null,
      "right": null,
      "top": null,
      "visibility": null,
      "width": null
     }
    },
    "74e418ab5f124d93b98e54fe8fce0ede": {
     "model_module": "@jupyter-widgets/controls",
     "model_name": "DescriptionStyleModel",
     "model_module_version": "1.5.0",
     "state": {
      "_model_module": "@jupyter-widgets/controls",
      "_model_module_version": "1.5.0",
      "_model_name": "DescriptionStyleModel",
      "_view_count": null,
      "_view_module": "@jupyter-widgets/base",
      "_view_module_version": "1.2.0",
      "_view_name": "StyleView",
      "description_width": ""
     }
    },
    "eb128f38e8914dcbaaf7fa1ff6fe51d9": {
     "model_module": "@jupyter-widgets/controls",
     "model_name": "HBoxModel",
     "model_module_version": "1.5.0",
     "state": {
      "_dom_classes": [],
      "_model_module": "@jupyter-widgets/controls",
      "_model_module_version": "1.5.0",
      "_model_name": "HBoxModel",
      "_view_count": null,
      "_view_module": "@jupyter-widgets/controls",
      "_view_module_version": "1.5.0",
      "_view_name": "HBoxView",
      "box_style": "",
      "children": [
       "IPY_MODEL_fe11248510724c70b8f36fe5db727760",
       "IPY_MODEL_e28d0582c4ef48969611ed5f48953303",
       "IPY_MODEL_61f1b25e5ca0478299d7aeb094fd92fa"
      ],
      "layout": "IPY_MODEL_00516dd5ef06496795fa1fe7c457c3ac"
     }
    },
    "fe11248510724c70b8f36fe5db727760": {
     "model_module": "@jupyter-widgets/controls",
     "model_name": "HTMLModel",
     "model_module_version": "1.5.0",
     "state": {
      "_dom_classes": [],
      "_model_module": "@jupyter-widgets/controls",
      "_model_module_version": "1.5.0",
      "_model_name": "HTMLModel",
      "_view_count": null,
      "_view_module": "@jupyter-widgets/controls",
      "_view_module_version": "1.5.0",
      "_view_name": "HTMLView",
      "description": "",
      "description_tooltip": null,
      "layout": "IPY_MODEL_469b79c538ae40aa8f7a3f639568ae6d",
      "placeholder": "​",
      "style": "IPY_MODEL_ce869fe929e04eb38d2247dd22e868b7",
      "value": "Downloading: 100%"
     }
    },
    "e28d0582c4ef48969611ed5f48953303": {
     "model_module": "@jupyter-widgets/controls",
     "model_name": "FloatProgressModel",
     "model_module_version": "1.5.0",
     "state": {
      "_dom_classes": [],
      "_model_module": "@jupyter-widgets/controls",
      "_model_module_version": "1.5.0",
      "_model_name": "FloatProgressModel",
      "_view_count": null,
      "_view_module": "@jupyter-widgets/controls",
      "_view_module_version": "1.5.0",
      "_view_name": "ProgressView",
      "bar_style": "success",
      "description": "",
      "description_tooltip": null,
      "layout": "IPY_MODEL_8367d5ab3cec43749d3109a381dae174",
      "max": 381,
      "min": 0,
      "orientation": "horizontal",
      "style": "IPY_MODEL_a68379a5983249c2be582478c8d1bff4",
      "value": 381
     }
    },
    "61f1b25e5ca0478299d7aeb094fd92fa": {
     "model_module": "@jupyter-widgets/controls",
     "model_name": "HTMLModel",
     "model_module_version": "1.5.0",
     "state": {
      "_dom_classes": [],
      "_model_module": "@jupyter-widgets/controls",
      "_model_module_version": "1.5.0",
      "_model_name": "HTMLModel",
      "_view_count": null,
      "_view_module": "@jupyter-widgets/controls",
      "_view_module_version": "1.5.0",
      "_view_name": "HTMLView",
      "description": "",
      "description_tooltip": null,
      "layout": "IPY_MODEL_08b1073a7485487381504f5acc6e6ed8",
      "placeholder": "​",
      "style": "IPY_MODEL_0166a39a841e48208431b75e49d15c0d",
      "value": " 381/381 [00:00&lt;00:00, 3.92kB/s]"
     }
    },
    "00516dd5ef06496795fa1fe7c457c3ac": {
     "model_module": "@jupyter-widgets/base",
     "model_name": "LayoutModel",
     "model_module_version": "1.2.0",
     "state": {
      "_model_module": "@jupyter-widgets/base",
      "_model_module_version": "1.2.0",
      "_model_name": "LayoutModel",
      "_view_count": null,
      "_view_module": "@jupyter-widgets/base",
      "_view_module_version": "1.2.0",
      "_view_name": "LayoutView",
      "align_content": null,
      "align_items": null,
      "align_self": null,
      "border": null,
      "bottom": null,
      "display": null,
      "flex": null,
      "flex_flow": null,
      "grid_area": null,
      "grid_auto_columns": null,
      "grid_auto_flow": null,
      "grid_auto_rows": null,
      "grid_column": null,
      "grid_gap": null,
      "grid_row": null,
      "grid_template_areas": null,
      "grid_template_columns": null,
      "grid_template_rows": null,
      "height": null,
      "justify_content": null,
      "justify_items": null,
      "left": null,
      "margin": null,
      "max_height": null,
      "max_width": null,
      "min_height": null,
      "min_width": null,
      "object_fit": null,
      "object_position": null,
      "order": null,
      "overflow": null,
      "overflow_x": null,
      "overflow_y": null,
      "padding": null,
      "right": null,
      "top": null,
      "visibility": null,
      "width": null
     }
    },
    "469b79c538ae40aa8f7a3f639568ae6d": {
     "model_module": "@jupyter-widgets/base",
     "model_name": "LayoutModel",
     "model_module_version": "1.2.0",
     "state": {
      "_model_module": "@jupyter-widgets/base",
      "_model_module_version": "1.2.0",
      "_model_name": "LayoutModel",
      "_view_count": null,
      "_view_module": "@jupyter-widgets/base",
      "_view_module_version": "1.2.0",
      "_view_name": "LayoutView",
      "align_content": null,
      "align_items": null,
      "align_self": null,
      "border": null,
      "bottom": null,
      "display": null,
      "flex": null,
      "flex_flow": null,
      "grid_area": null,
      "grid_auto_columns": null,
      "grid_auto_flow": null,
      "grid_auto_rows": null,
      "grid_column": null,
      "grid_gap": null,
      "grid_row": null,
      "grid_template_areas": null,
      "grid_template_columns": null,
      "grid_template_rows": null,
      "height": null,
      "justify_content": null,
      "justify_items": null,
      "left": null,
      "margin": null,
      "max_height": null,
      "max_width": null,
      "min_height": null,
      "min_width": null,
      "object_fit": null,
      "object_position": null,
      "order": null,
      "overflow": null,
      "overflow_x": null,
      "overflow_y": null,
      "padding": null,
      "right": null,
      "top": null,
      "visibility": null,
      "width": null
     }
    },
    "ce869fe929e04eb38d2247dd22e868b7": {
     "model_module": "@jupyter-widgets/controls",
     "model_name": "DescriptionStyleModel",
     "model_module_version": "1.5.0",
     "state": {
      "_model_module": "@jupyter-widgets/controls",
      "_model_module_version": "1.5.0",
      "_model_name": "DescriptionStyleModel",
      "_view_count": null,
      "_view_module": "@jupyter-widgets/base",
      "_view_module_version": "1.2.0",
      "_view_name": "StyleView",
      "description_width": ""
     }
    },
    "8367d5ab3cec43749d3109a381dae174": {
     "model_module": "@jupyter-widgets/base",
     "model_name": "LayoutModel",
     "model_module_version": "1.2.0",
     "state": {
      "_model_module": "@jupyter-widgets/base",
      "_model_module_version": "1.2.0",
      "_model_name": "LayoutModel",
      "_view_count": null,
      "_view_module": "@jupyter-widgets/base",
      "_view_module_version": "1.2.0",
      "_view_name": "LayoutView",
      "align_content": null,
      "align_items": null,
      "align_self": null,
      "border": null,
      "bottom": null,
      "display": null,
      "flex": null,
      "flex_flow": null,
      "grid_area": null,
      "grid_auto_columns": null,
      "grid_auto_flow": null,
      "grid_auto_rows": null,
      "grid_column": null,
      "grid_gap": null,
      "grid_row": null,
      "grid_template_areas": null,
      "grid_template_columns": null,
      "grid_template_rows": null,
      "height": null,
      "justify_content": null,
      "justify_items": null,
      "left": null,
      "margin": null,
      "max_height": null,
      "max_width": null,
      "min_height": null,
      "min_width": null,
      "object_fit": null,
      "object_position": null,
      "order": null,
      "overflow": null,
      "overflow_x": null,
      "overflow_y": null,
      "padding": null,
      "right": null,
      "top": null,
      "visibility": null,
      "width": null
     }
    },
    "a68379a5983249c2be582478c8d1bff4": {
     "model_module": "@jupyter-widgets/controls",
     "model_name": "ProgressStyleModel",
     "model_module_version": "1.5.0",
     "state": {
      "_model_module": "@jupyter-widgets/controls",
      "_model_module_version": "1.5.0",
      "_model_name": "ProgressStyleModel",
      "_view_count": null,
      "_view_module": "@jupyter-widgets/base",
      "_view_module_version": "1.2.0",
      "_view_name": "StyleView",
      "bar_color": null,
      "description_width": ""
     }
    },
    "08b1073a7485487381504f5acc6e6ed8": {
     "model_module": "@jupyter-widgets/base",
     "model_name": "LayoutModel",
     "model_module_version": "1.2.0",
     "state": {
      "_model_module": "@jupyter-widgets/base",
      "_model_module_version": "1.2.0",
      "_model_name": "LayoutModel",
      "_view_count": null,
      "_view_module": "@jupyter-widgets/base",
      "_view_module_version": "1.2.0",
      "_view_name": "LayoutView",
      "align_content": null,
      "align_items": null,
      "align_self": null,
      "border": null,
      "bottom": null,
      "display": null,
      "flex": null,
      "flex_flow": null,
      "grid_area": null,
      "grid_auto_columns": null,
      "grid_auto_flow": null,
      "grid_auto_rows": null,
      "grid_column": null,
      "grid_gap": null,
      "grid_row": null,
      "grid_template_areas": null,
      "grid_template_columns": null,
      "grid_template_rows": null,
      "height": null,
      "justify_content": null,
      "justify_items": null,
      "left": null,
      "margin": null,
      "max_height": null,
      "max_width": null,
      "min_height": null,
      "min_width": null,
      "object_fit": null,
      "object_position": null,
      "order": null,
      "overflow": null,
      "overflow_x": null,
      "overflow_y": null,
      "padding": null,
      "right": null,
      "top": null,
      "visibility": null,
      "width": null
     }
    },
    "0166a39a841e48208431b75e49d15c0d": {
     "model_module": "@jupyter-widgets/controls",
     "model_name": "DescriptionStyleModel",
     "model_module_version": "1.5.0",
     "state": {
      "_model_module": "@jupyter-widgets/controls",
      "_model_module_version": "1.5.0",
      "_model_name": "DescriptionStyleModel",
      "_view_count": null,
      "_view_module": "@jupyter-widgets/base",
      "_view_module_version": "1.2.0",
      "_view_name": "StyleView",
      "description_width": ""
     }
    },
    "4d0be3b858e3488a8b026f4828a52c18": {
     "model_module": "@jupyter-widgets/controls",
     "model_name": "HBoxModel",
     "model_module_version": "1.5.0",
     "state": {
      "_dom_classes": [],
      "_model_module": "@jupyter-widgets/controls",
      "_model_module_version": "1.5.0",
      "_model_name": "HBoxModel",
      "_view_count": null,
      "_view_module": "@jupyter-widgets/controls",
      "_view_module_version": "1.5.0",
      "_view_name": "HBoxView",
      "box_style": "",
      "children": [
       "IPY_MODEL_90e34c66d2844a56a124007319e56970",
       "IPY_MODEL_1fd5c7313c154900b7df1e535f489f3b",
       "IPY_MODEL_7f0cfed5f31b4b2cabbac20879a832bb"
      ],
      "layout": "IPY_MODEL_db4a5ab84db345cb9950a8ab6ccb61a2"
     }
    },
    "90e34c66d2844a56a124007319e56970": {
     "model_module": "@jupyter-widgets/controls",
     "model_name": "HTMLModel",
     "model_module_version": "1.5.0",
     "state": {
      "_dom_classes": [],
      "_model_module": "@jupyter-widgets/controls",
      "_model_module_version": "1.5.0",
      "_model_name": "HTMLModel",
      "_view_count": null,
      "_view_module": "@jupyter-widgets/controls",
      "_view_module_version": "1.5.0",
      "_view_name": "HTMLView",
      "description": "",
      "description_tooltip": null,
      "layout": "IPY_MODEL_fde53f4fe81643ffb8e8144239d872f9",
      "placeholder": "​",
      "style": "IPY_MODEL_ef8bb1a2ccb64a20a4baa0e4d5e16cf0",
      "value": "Downloading: 100%"
     }
    },
    "1fd5c7313c154900b7df1e535f489f3b": {
     "model_module": "@jupyter-widgets/controls",
     "model_name": "FloatProgressModel",
     "model_module_version": "1.5.0",
     "state": {
      "_dom_classes": [],
      "_model_module": "@jupyter-widgets/controls",
      "_model_module_version": "1.5.0",
      "_model_name": "FloatProgressModel",
      "_view_count": null,
      "_view_module": "@jupyter-widgets/controls",
      "_view_module_version": "1.5.0",
      "_view_name": "ProgressView",
      "bar_style": "success",
      "description": "",
      "description_tooltip": null,
      "layout": "IPY_MODEL_2f618638ff824ff883713ad0e03845f9",
      "max": 85,
      "min": 0,
      "orientation": "horizontal",
      "style": "IPY_MODEL_1ad7a672e6f041dd865e114c24c8ee48",
      "value": 85
     }
    },
    "7f0cfed5f31b4b2cabbac20879a832bb": {
     "model_module": "@jupyter-widgets/controls",
     "model_name": "HTMLModel",
     "model_module_version": "1.5.0",
     "state": {
      "_dom_classes": [],
      "_model_module": "@jupyter-widgets/controls",
      "_model_module_version": "1.5.0",
      "_model_name": "HTMLModel",
      "_view_count": null,
      "_view_module": "@jupyter-widgets/controls",
      "_view_module_version": "1.5.0",
      "_view_name": "HTMLView",
      "description": "",
      "description_tooltip": null,
      "layout": "IPY_MODEL_32c903b97f024270bf730a8a6b14c9c4",
      "placeholder": "​",
      "style": "IPY_MODEL_02feb7e66b12482baf3aed8676c5ad17",
      "value": " 85.0/85.0 [00:00&lt;00:00, 766B/s]"
     }
    },
    "db4a5ab84db345cb9950a8ab6ccb61a2": {
     "model_module": "@jupyter-widgets/base",
     "model_name": "LayoutModel",
     "model_module_version": "1.2.0",
     "state": {
      "_model_module": "@jupyter-widgets/base",
      "_model_module_version": "1.2.0",
      "_model_name": "LayoutModel",
      "_view_count": null,
      "_view_module": "@jupyter-widgets/base",
      "_view_module_version": "1.2.0",
      "_view_name": "LayoutView",
      "align_content": null,
      "align_items": null,
      "align_self": null,
      "border": null,
      "bottom": null,
      "display": null,
      "flex": null,
      "flex_flow": null,
      "grid_area": null,
      "grid_auto_columns": null,
      "grid_auto_flow": null,
      "grid_auto_rows": null,
      "grid_column": null,
      "grid_gap": null,
      "grid_row": null,
      "grid_template_areas": null,
      "grid_template_columns": null,
      "grid_template_rows": null,
      "height": null,
      "justify_content": null,
      "justify_items": null,
      "left": null,
      "margin": null,
      "max_height": null,
      "max_width": null,
      "min_height": null,
      "min_width": null,
      "object_fit": null,
      "object_position": null,
      "order": null,
      "overflow": null,
      "overflow_x": null,
      "overflow_y": null,
      "padding": null,
      "right": null,
      "top": null,
      "visibility": null,
      "width": null
     }
    },
    "fde53f4fe81643ffb8e8144239d872f9": {
     "model_module": "@jupyter-widgets/base",
     "model_name": "LayoutModel",
     "model_module_version": "1.2.0",
     "state": {
      "_model_module": "@jupyter-widgets/base",
      "_model_module_version": "1.2.0",
      "_model_name": "LayoutModel",
      "_view_count": null,
      "_view_module": "@jupyter-widgets/base",
      "_view_module_version": "1.2.0",
      "_view_name": "LayoutView",
      "align_content": null,
      "align_items": null,
      "align_self": null,
      "border": null,
      "bottom": null,
      "display": null,
      "flex": null,
      "flex_flow": null,
      "grid_area": null,
      "grid_auto_columns": null,
      "grid_auto_flow": null,
      "grid_auto_rows": null,
      "grid_column": null,
      "grid_gap": null,
      "grid_row": null,
      "grid_template_areas": null,
      "grid_template_columns": null,
      "grid_template_rows": null,
      "height": null,
      "justify_content": null,
      "justify_items": null,
      "left": null,
      "margin": null,
      "max_height": null,
      "max_width": null,
      "min_height": null,
      "min_width": null,
      "object_fit": null,
      "object_position": null,
      "order": null,
      "overflow": null,
      "overflow_x": null,
      "overflow_y": null,
      "padding": null,
      "right": null,
      "top": null,
      "visibility": null,
      "width": null
     }
    },
    "ef8bb1a2ccb64a20a4baa0e4d5e16cf0": {
     "model_module": "@jupyter-widgets/controls",
     "model_name": "DescriptionStyleModel",
     "model_module_version": "1.5.0",
     "state": {
      "_model_module": "@jupyter-widgets/controls",
      "_model_module_version": "1.5.0",
      "_model_name": "DescriptionStyleModel",
      "_view_count": null,
      "_view_module": "@jupyter-widgets/base",
      "_view_module_version": "1.2.0",
      "_view_name": "StyleView",
      "description_width": ""
     }
    },
    "2f618638ff824ff883713ad0e03845f9": {
     "model_module": "@jupyter-widgets/base",
     "model_name": "LayoutModel",
     "model_module_version": "1.2.0",
     "state": {
      "_model_module": "@jupyter-widgets/base",
      "_model_module_version": "1.2.0",
      "_model_name": "LayoutModel",
      "_view_count": null,
      "_view_module": "@jupyter-widgets/base",
      "_view_module_version": "1.2.0",
      "_view_name": "LayoutView",
      "align_content": null,
      "align_items": null,
      "align_self": null,
      "border": null,
      "bottom": null,
      "display": null,
      "flex": null,
      "flex_flow": null,
      "grid_area": null,
      "grid_auto_columns": null,
      "grid_auto_flow": null,
      "grid_auto_rows": null,
      "grid_column": null,
      "grid_gap": null,
      "grid_row": null,
      "grid_template_areas": null,
      "grid_template_columns": null,
      "grid_template_rows": null,
      "height": null,
      "justify_content": null,
      "justify_items": null,
      "left": null,
      "margin": null,
      "max_height": null,
      "max_width": null,
      "min_height": null,
      "min_width": null,
      "object_fit": null,
      "object_position": null,
      "order": null,
      "overflow": null,
      "overflow_x": null,
      "overflow_y": null,
      "padding": null,
      "right": null,
      "top": null,
      "visibility": null,
      "width": null
     }
    },
    "1ad7a672e6f041dd865e114c24c8ee48": {
     "model_module": "@jupyter-widgets/controls",
     "model_name": "ProgressStyleModel",
     "model_module_version": "1.5.0",
     "state": {
      "_model_module": "@jupyter-widgets/controls",
      "_model_module_version": "1.5.0",
      "_model_name": "ProgressStyleModel",
      "_view_count": null,
      "_view_module": "@jupyter-widgets/base",
      "_view_module_version": "1.2.0",
      "_view_name": "StyleView",
      "bar_color": null,
      "description_width": ""
     }
    },
    "32c903b97f024270bf730a8a6b14c9c4": {
     "model_module": "@jupyter-widgets/base",
     "model_name": "LayoutModel",
     "model_module_version": "1.2.0",
     "state": {
      "_model_module": "@jupyter-widgets/base",
      "_model_module_version": "1.2.0",
      "_model_name": "LayoutModel",
      "_view_count": null,
      "_view_module": "@jupyter-widgets/base",
      "_view_module_version": "1.2.0",
      "_view_name": "LayoutView",
      "align_content": null,
      "align_items": null,
      "align_self": null,
      "border": null,
      "bottom": null,
      "display": null,
      "flex": null,
      "flex_flow": null,
      "grid_area": null,
      "grid_auto_columns": null,
      "grid_auto_flow": null,
      "grid_auto_rows": null,
      "grid_column": null,
      "grid_gap": null,
      "grid_row": null,
      "grid_template_areas": null,
      "grid_template_columns": null,
      "grid_template_rows": null,
      "height": null,
      "justify_content": null,
      "justify_items": null,
      "left": null,
      "margin": null,
      "max_height": null,
      "max_width": null,
      "min_height": null,
      "min_width": null,
      "object_fit": null,
      "object_position": null,
      "order": null,
      "overflow": null,
      "overflow_x": null,
      "overflow_y": null,
      "padding": null,
      "right": null,
      "top": null,
      "visibility": null,
      "width": null
     }
    },
    "02feb7e66b12482baf3aed8676c5ad17": {
     "model_module": "@jupyter-widgets/controls",
     "model_name": "DescriptionStyleModel",
     "model_module_version": "1.5.0",
     "state": {
      "_model_module": "@jupyter-widgets/controls",
      "_model_module_version": "1.5.0",
      "_model_name": "DescriptionStyleModel",
      "_view_count": null,
      "_view_module": "@jupyter-widgets/base",
      "_view_module_version": "1.2.0",
      "_view_name": "StyleView",
      "description_width": ""
     }
    },
    "a01218c0672647518a2554c042919084": {
     "model_module": "@jupyter-widgets/controls",
     "model_name": "HBoxModel",
     "model_module_version": "1.5.0",
     "state": {
      "_dom_classes": [],
      "_model_module": "@jupyter-widgets/controls",
      "_model_module_version": "1.5.0",
      "_model_name": "HBoxModel",
      "_view_count": null,
      "_view_module": "@jupyter-widgets/controls",
      "_view_module_version": "1.5.0",
      "_view_name": "HBoxView",
      "box_style": "",
      "children": [
       "IPY_MODEL_e447c05416c14aaa9a263bf54b1b4ff9",
       "IPY_MODEL_189085f97c1b4cd2a7aa6c35b9cb8d7a",
       "IPY_MODEL_09a24863f64a4294819a924f47ef6a11"
      ],
      "layout": "IPY_MODEL_dadc5cde09eb48118496b89188d413f7"
     }
    },
    "e447c05416c14aaa9a263bf54b1b4ff9": {
     "model_module": "@jupyter-widgets/controls",
     "model_name": "HTMLModel",
     "model_module_version": "1.5.0",
     "state": {
      "_dom_classes": [],
      "_model_module": "@jupyter-widgets/controls",
      "_model_module_version": "1.5.0",
      "_model_name": "HTMLModel",
      "_view_count": null,
      "_view_module": "@jupyter-widgets/controls",
      "_view_module_version": "1.5.0",
      "_view_name": "HTMLView",
      "description": "",
      "description_tooltip": null,
      "layout": "IPY_MODEL_234f47015f9443fd9a08fddc1b22c16f",
      "placeholder": "​",
      "style": "IPY_MODEL_862e1a630d704912a992d9575b1b3dde",
      "value": "Downloading: 100%"
     }
    },
    "189085f97c1b4cd2a7aa6c35b9cb8d7a": {
     "model_module": "@jupyter-widgets/controls",
     "model_name": "FloatProgressModel",
     "model_module_version": "1.5.0",
     "state": {
      "_dom_classes": [],
      "_model_module": "@jupyter-widgets/controls",
      "_model_module_version": "1.5.0",
      "_model_name": "FloatProgressModel",
      "_view_count": null,
      "_view_module": "@jupyter-widgets/controls",
      "_view_module_version": "1.5.0",
      "_view_name": "ProgressView",
      "bar_style": "success",
      "description": "",
      "description_tooltip": null,
      "layout": "IPY_MODEL_99cc29ebfd16478ab2a915a6b82fac86",
      "max": 377700204,
      "min": 0,
      "orientation": "horizontal",
      "style": "IPY_MODEL_371a4105a4b04cd3b5a50bea0ae022d8",
      "value": 377700204
     }
    },
    "09a24863f64a4294819a924f47ef6a11": {
     "model_module": "@jupyter-widgets/controls",
     "model_name": "HTMLModel",
     "model_module_version": "1.5.0",
     "state": {
      "_dom_classes": [],
      "_model_module": "@jupyter-widgets/controls",
      "_model_module_version": "1.5.0",
      "_model_name": "HTMLModel",
      "_view_count": null,
      "_view_module": "@jupyter-widgets/controls",
      "_view_module_version": "1.5.0",
      "_view_name": "HTMLView",
      "description": "",
      "description_tooltip": null,
      "layout": "IPY_MODEL_f70417b1316e44b6bfaddfcf18147dae",
      "placeholder": "​",
      "style": "IPY_MODEL_bb4c5d4fdac44c2a8f295ab560e7e343",
      "value": " 378M/378M [00:14&lt;00:00, 48.3MB/s]"
     }
    },
    "dadc5cde09eb48118496b89188d413f7": {
     "model_module": "@jupyter-widgets/base",
     "model_name": "LayoutModel",
     "model_module_version": "1.2.0",
     "state": {
      "_model_module": "@jupyter-widgets/base",
      "_model_module_version": "1.2.0",
      "_model_name": "LayoutModel",
      "_view_count": null,
      "_view_module": "@jupyter-widgets/base",
      "_view_module_version": "1.2.0",
      "_view_name": "LayoutView",
      "align_content": null,
      "align_items": null,
      "align_self": null,
      "border": null,
      "bottom": null,
      "display": null,
      "flex": null,
      "flex_flow": null,
      "grid_area": null,
      "grid_auto_columns": null,
      "grid_auto_flow": null,
      "grid_auto_rows": null,
      "grid_column": null,
      "grid_gap": null,
      "grid_row": null,
      "grid_template_areas": null,
      "grid_template_columns": null,
      "grid_template_rows": null,
      "height": null,
      "justify_content": null,
      "justify_items": null,
      "left": null,
      "margin": null,
      "max_height": null,
      "max_width": null,
      "min_height": null,
      "min_width": null,
      "object_fit": null,
      "object_position": null,
      "order": null,
      "overflow": null,
      "overflow_x": null,
      "overflow_y": null,
      "padding": null,
      "right": null,
      "top": null,
      "visibility": null,
      "width": null
     }
    },
    "234f47015f9443fd9a08fddc1b22c16f": {
     "model_module": "@jupyter-widgets/base",
     "model_name": "LayoutModel",
     "model_module_version": "1.2.0",
     "state": {
      "_model_module": "@jupyter-widgets/base",
      "_model_module_version": "1.2.0",
      "_model_name": "LayoutModel",
      "_view_count": null,
      "_view_module": "@jupyter-widgets/base",
      "_view_module_version": "1.2.0",
      "_view_name": "LayoutView",
      "align_content": null,
      "align_items": null,
      "align_self": null,
      "border": null,
      "bottom": null,
      "display": null,
      "flex": null,
      "flex_flow": null,
      "grid_area": null,
      "grid_auto_columns": null,
      "grid_auto_flow": null,
      "grid_auto_rows": null,
      "grid_column": null,
      "grid_gap": null,
      "grid_row": null,
      "grid_template_areas": null,
      "grid_template_columns": null,
      "grid_template_rows": null,
      "height": null,
      "justify_content": null,
      "justify_items": null,
      "left": null,
      "margin": null,
      "max_height": null,
      "max_width": null,
      "min_height": null,
      "min_width": null,
      "object_fit": null,
      "object_position": null,
      "order": null,
      "overflow": null,
      "overflow_x": null,
      "overflow_y": null,
      "padding": null,
      "right": null,
      "top": null,
      "visibility": null,
      "width": null
     }
    },
    "862e1a630d704912a992d9575b1b3dde": {
     "model_module": "@jupyter-widgets/controls",
     "model_name": "DescriptionStyleModel",
     "model_module_version": "1.5.0",
     "state": {
      "_model_module": "@jupyter-widgets/controls",
      "_model_module_version": "1.5.0",
      "_model_name": "DescriptionStyleModel",
      "_view_count": null,
      "_view_module": "@jupyter-widgets/base",
      "_view_module_version": "1.2.0",
      "_view_name": "StyleView",
      "description_width": ""
     }
    },
    "99cc29ebfd16478ab2a915a6b82fac86": {
     "model_module": "@jupyter-widgets/base",
     "model_name": "LayoutModel",
     "model_module_version": "1.2.0",
     "state": {
      "_model_module": "@jupyter-widgets/base",
      "_model_module_version": "1.2.0",
      "_model_name": "LayoutModel",
      "_view_count": null,
      "_view_module": "@jupyter-widgets/base",
      "_view_module_version": "1.2.0",
      "_view_name": "LayoutView",
      "align_content": null,
      "align_items": null,
      "align_self": null,
      "border": null,
      "bottom": null,
      "display": null,
      "flex": null,
      "flex_flow": null,
      "grid_area": null,
      "grid_auto_columns": null,
      "grid_auto_flow": null,
      "grid_auto_rows": null,
      "grid_column": null,
      "grid_gap": null,
      "grid_row": null,
      "grid_template_areas": null,
      "grid_template_columns": null,
      "grid_template_rows": null,
      "height": null,
      "justify_content": null,
      "justify_items": null,
      "left": null,
      "margin": null,
      "max_height": null,
      "max_width": null,
      "min_height": null,
      "min_width": null,
      "object_fit": null,
      "object_position": null,
      "order": null,
      "overflow": null,
      "overflow_x": null,
      "overflow_y": null,
      "padding": null,
      "right": null,
      "top": null,
      "visibility": null,
      "width": null
     }
    },
    "371a4105a4b04cd3b5a50bea0ae022d8": {
     "model_module": "@jupyter-widgets/controls",
     "model_name": "ProgressStyleModel",
     "model_module_version": "1.5.0",
     "state": {
      "_model_module": "@jupyter-widgets/controls",
      "_model_module_version": "1.5.0",
      "_model_name": "ProgressStyleModel",
      "_view_count": null,
      "_view_module": "@jupyter-widgets/base",
      "_view_module_version": "1.2.0",
      "_view_name": "StyleView",
      "bar_color": null,
      "description_width": ""
     }
    },
    "f70417b1316e44b6bfaddfcf18147dae": {
     "model_module": "@jupyter-widgets/base",
     "model_name": "LayoutModel",
     "model_module_version": "1.2.0",
     "state": {
      "_model_module": "@jupyter-widgets/base",
      "_model_module_version": "1.2.0",
      "_model_name": "LayoutModel",
      "_view_count": null,
      "_view_module": "@jupyter-widgets/base",
      "_view_module_version": "1.2.0",
      "_view_name": "LayoutView",
      "align_content": null,
      "align_items": null,
      "align_self": null,
      "border": null,
      "bottom": null,
      "display": null,
      "flex": null,
      "flex_flow": null,
      "grid_area": null,
      "grid_auto_columns": null,
      "grid_auto_flow": null,
      "grid_auto_rows": null,
      "grid_column": null,
      "grid_gap": null,
      "grid_row": null,
      "grid_template_areas": null,
      "grid_template_columns": null,
      "grid_template_rows": null,
      "height": null,
      "justify_content": null,
      "justify_items": null,
      "left": null,
      "margin": null,
      "max_height": null,
      "max_width": null,
      "min_height": null,
      "min_width": null,
      "object_fit": null,
      "object_position": null,
      "order": null,
      "overflow": null,
      "overflow_x": null,
      "overflow_y": null,
      "padding": null,
      "right": null,
      "top": null,
      "visibility": null,
      "width": null
     }
    },
    "bb4c5d4fdac44c2a8f295ab560e7e343": {
     "model_module": "@jupyter-widgets/controls",
     "model_name": "DescriptionStyleModel",
     "model_module_version": "1.5.0",
     "state": {
      "_model_module": "@jupyter-widgets/controls",
      "_model_module_version": "1.5.0",
      "_model_name": "DescriptionStyleModel",
      "_view_count": null,
      "_view_module": "@jupyter-widgets/base",
      "_view_module_version": "1.2.0",
      "_view_name": "StyleView",
      "description_width": ""
     }
    }
   }
  }
 },
 "cells": [
  {
   "cell_type": "code",
   "source": [
    "!pip install https://github.com/huggingface/transformers/archive/refs/heads/master.zip\n",
    "!pip install https://github.com/kensho-technologies/pyctcdecode/archive/refs/heads/main.zip\n",
    "!pip install https://github.com/kpu/kenlm/archive/master.zip\n",
    "!pip install wavio\n",
    "!pip install jiwer\n",
    "!pip install arpa\n",
    "!pip install matplotlib\n",
    "!pip install librosa"
   ],
   "metadata": {
    "colab": {
     "base_uri": "https://localhost:8080/"
    },
    "id": "ZSKPLvyywK6a",
    "outputId": "56eccf8b-bb39-4c80-e245-40e487816e16"
   },
   "execution_count": 1,
   "outputs": [
    {
     "name": "stdout",
     "output_type": "stream",
     "text": [
      "Collecting https://github.com/huggingface/transformers/archive/refs/heads/master.zip\r\n",
      "  Downloading https://github.com/huggingface/transformers/archive/refs/heads/master.zip\r\n",
      "     \\ 14.0 MB 6.9 MB/s\r\n",
      "\u001B[?25h  Installing build dependencies ... \u001B[?25ldone\r\n",
      "\u001B[?25h  Getting requirements to build wheel ... \u001B[?25ldone\r\n",
      "\u001B[?25h  Preparing metadata (pyproject.toml) ... \u001B[?25ldone\r\n",
      "\u001B[?25hRequirement already satisfied: huggingface-hub<1.0,>=0.10.0 in /Users/kuba/PJATK/semestr3/ZUM/chess-speech-recognition/venv/lib/python3.9/site-packages (from transformers==4.25.0.dev0) (0.10.1)\r\n",
      "Requirement already satisfied: regex!=2019.12.17 in /Users/kuba/PJATK/semestr3/ZUM/chess-speech-recognition/venv/lib/python3.9/site-packages (from transformers==4.25.0.dev0) (2022.10.31)\r\n",
      "Requirement already satisfied: numpy>=1.17 in /Library/Frameworks/Python.framework/Versions/3.9/lib/python3.9/site-packages (from transformers==4.25.0.dev0) (1.23.4)\r\n",
      "Requirement already satisfied: pyyaml>=5.1 in /Library/Frameworks/Python.framework/Versions/3.9/lib/python3.9/site-packages (from transformers==4.25.0.dev0) (6.0)\r\n",
      "Requirement already satisfied: tqdm>=4.27 in /Users/kuba/PJATK/semestr3/ZUM/chess-speech-recognition/venv/lib/python3.9/site-packages (from transformers==4.25.0.dev0) (4.64.1)\r\n",
      "Requirement already satisfied: tokenizers!=0.11.3,<0.14,>=0.11.1 in /Users/kuba/PJATK/semestr3/ZUM/chess-speech-recognition/venv/lib/python3.9/site-packages (from transformers==4.25.0.dev0) (0.13.2)\r\n",
      "Requirement already satisfied: packaging>=20.0 in /Library/Frameworks/Python.framework/Versions/3.9/lib/python3.9/site-packages (from transformers==4.25.0.dev0) (21.3)\r\n",
      "Requirement already satisfied: filelock in /Users/kuba/PJATK/semestr3/ZUM/chess-speech-recognition/venv/lib/python3.9/site-packages (from transformers==4.25.0.dev0) (3.8.0)\r\n",
      "Requirement already satisfied: requests in /Library/Frameworks/Python.framework/Versions/3.9/lib/python3.9/site-packages (from transformers==4.25.0.dev0) (2.28.1)\r\n",
      "Requirement already satisfied: typing-extensions>=3.7.4.3 in /Library/Frameworks/Python.framework/Versions/3.9/lib/python3.9/site-packages (from huggingface-hub<1.0,>=0.10.0->transformers==4.25.0.dev0) (4.3.0)\r\n",
      "Requirement already satisfied: pyparsing!=3.0.5,>=2.0.2 in /Library/Frameworks/Python.framework/Versions/3.9/lib/python3.9/site-packages (from packaging>=20.0->transformers==4.25.0.dev0) (3.0.9)\r\n",
      "Requirement already satisfied: charset-normalizer<3,>=2 in /Library/Frameworks/Python.framework/Versions/3.9/lib/python3.9/site-packages (from requests->transformers==4.25.0.dev0) (2.1.1)\r\n",
      "Requirement already satisfied: idna<4,>=2.5 in /Library/Frameworks/Python.framework/Versions/3.9/lib/python3.9/site-packages (from requests->transformers==4.25.0.dev0) (3.4)\r\n",
      "Requirement already satisfied: urllib3<1.27,>=1.21.1 in /Library/Frameworks/Python.framework/Versions/3.9/lib/python3.9/site-packages (from requests->transformers==4.25.0.dev0) (1.26.12)\r\n",
      "Requirement already satisfied: certifi>=2017.4.17 in /Library/Frameworks/Python.framework/Versions/3.9/lib/python3.9/site-packages (from requests->transformers==4.25.0.dev0) (2022.9.14)\r\n",
      "\u001B[33mWARNING: You are using pip version 21.3.1; however, version 22.3.1 is available.\r\n",
      "You should consider upgrading via the '/Users/kuba/PJATK/semestr3/ZUM/chess-speech-recognition/venv/bin/python -m pip install --upgrade pip' command.\u001B[0m\r\n",
      "Collecting https://github.com/kensho-technologies/pyctcdecode/archive/refs/heads/main.zip\r\n",
      "  Using cached https://github.com/kensho-technologies/pyctcdecode/archive/refs/heads/main.zip\r\n",
      "  Installing build dependencies ... \u001B[?25ldone\r\n",
      "\u001B[?25h  Getting requirements to build wheel ... \u001B[?25ldone\r\n",
      "\u001B[?25h  Preparing metadata (pyproject.toml) ... \u001B[?25ldone\r\n",
      "\u001B[?25hRequirement already satisfied: pygtrie<3.0,>=2.1 in /Users/kuba/PJATK/semestr3/ZUM/chess-speech-recognition/venv/lib/python3.9/site-packages (from pyctcdecode==0.4.0) (2.5.0)\r\n",
      "Requirement already satisfied: hypothesis<7,>=6.14 in /Users/kuba/PJATK/semestr3/ZUM/chess-speech-recognition/venv/lib/python3.9/site-packages (from pyctcdecode==0.4.0) (6.56.4)\r\n",
      "Requirement already satisfied: numpy<2.0.0,>=1.15.0 in /Library/Frameworks/Python.framework/Versions/3.9/lib/python3.9/site-packages (from pyctcdecode==0.4.0) (1.23.4)\r\n",
      "Requirement already satisfied: exceptiongroup>=1.0.0 in /Users/kuba/PJATK/semestr3/ZUM/chess-speech-recognition/venv/lib/python3.9/site-packages (from hypothesis<7,>=6.14->pyctcdecode==0.4.0) (1.0.1)\r\n",
      "Requirement already satisfied: sortedcontainers<3.0.0,>=2.1.0 in /Users/kuba/PJATK/semestr3/ZUM/chess-speech-recognition/venv/lib/python3.9/site-packages (from hypothesis<7,>=6.14->pyctcdecode==0.4.0) (2.4.0)\r\n",
      "Requirement already satisfied: attrs>=19.2.0 in /Users/kuba/PJATK/semestr3/ZUM/chess-speech-recognition/venv/lib/python3.9/site-packages (from hypothesis<7,>=6.14->pyctcdecode==0.4.0) (22.1.0)\r\n",
      "\u001B[33mWARNING: You are using pip version 21.3.1; however, version 22.3.1 is available.\r\n",
      "You should consider upgrading via the '/Users/kuba/PJATK/semestr3/ZUM/chess-speech-recognition/venv/bin/python -m pip install --upgrade pip' command.\u001B[0m\r\n",
      "Collecting https://github.com/kpu/kenlm/archive/master.zip\r\n",
      "  Using cached https://github.com/kpu/kenlm/archive/master.zip\r\n",
      "  Preparing metadata (setup.py) ... \u001B[?25ldone\r\n",
      "\u001B[33mWARNING: You are using pip version 21.3.1; however, version 22.3.1 is available.\r\n",
      "You should consider upgrading via the '/Users/kuba/PJATK/semestr3/ZUM/chess-speech-recognition/venv/bin/python -m pip install --upgrade pip' command.\u001B[0m\r\n",
      "\u001B[?25hRequirement already satisfied: wavio in /Users/kuba/PJATK/semestr3/ZUM/chess-speech-recognition/venv/lib/python3.9/site-packages (0.0.4)\r\n",
      "Requirement already satisfied: numpy>=1.6.0 in /Library/Frameworks/Python.framework/Versions/3.9/lib/python3.9/site-packages (from wavio) (1.23.4)\r\n",
      "\u001B[33mWARNING: You are using pip version 21.3.1; however, version 22.3.1 is available.\r\n",
      "You should consider upgrading via the '/Users/kuba/PJATK/semestr3/ZUM/chess-speech-recognition/venv/bin/python -m pip install --upgrade pip' command.\u001B[0m\r\n",
      "Requirement already satisfied: jiwer in /Users/kuba/PJATK/semestr3/ZUM/chess-speech-recognition/venv/lib/python3.9/site-packages (2.5.1)\r\n",
      "Requirement already satisfied: levenshtein==0.20.2 in /Users/kuba/PJATK/semestr3/ZUM/chess-speech-recognition/venv/lib/python3.9/site-packages (from jiwer) (0.20.2)\r\n",
      "Requirement already satisfied: rapidfuzz<3.0.0,>=2.3.0 in /Users/kuba/PJATK/semestr3/ZUM/chess-speech-recognition/venv/lib/python3.9/site-packages (from levenshtein==0.20.2->jiwer) (2.13.2)\r\n",
      "\u001B[33mWARNING: You are using pip version 21.3.1; however, version 22.3.1 is available.\r\n",
      "You should consider upgrading via the '/Users/kuba/PJATK/semestr3/ZUM/chess-speech-recognition/venv/bin/python -m pip install --upgrade pip' command.\u001B[0m\r\n",
      "Requirement already satisfied: arpa in /Users/kuba/PJATK/semestr3/ZUM/chess-speech-recognition/venv/lib/python3.9/site-packages (0.1.0b4)\r\n",
      "\u001B[33mWARNING: You are using pip version 21.3.1; however, version 22.3.1 is available.\r\n",
      "You should consider upgrading via the '/Users/kuba/PJATK/semestr3/ZUM/chess-speech-recognition/venv/bin/python -m pip install --upgrade pip' command.\u001B[0m\r\n"
     ]
    }
   ]
  },
  {
   "cell_type": "code",
   "source": [
    "!wget http://users.pja.edu.pl/~danijel/zum/srilm-bin.tar.xz\n",
    "!tar xvf srilm-bin.tar.xz\n",
    "!ln -sf ${PWD}/bin/i686-m64/ngram /usr/local/bin/ngram\n",
    "!ln -sf ${PWD}/bin/i686-m64/ngram-count /usr/local/bin/ngram-count"
   ],
   "metadata": {
    "colab": {
     "base_uri": "https://localhost:8080/"
    },
    "id": "bYC3a_xFwwCA",
    "outputId": "4a5f59b1-555d-41b3-8226-698e7e6ec188"
   },
   "execution_count": 53,
   "outputs": [
    {
     "name": "stdout",
     "output_type": "stream",
     "text": [
      "  % Total    % Received % Xferd  Average Speed   Time    Time     Time  Current\r\n",
      "                                 Dload  Upload   Total   Spent    Left  Speed\r\n",
      "100 35.3M  100 35.3M    0     0  3971k      0  0:00:09  0:00:09 --:--:-- 5480k0 --:--:--  0:16:20 40500\r\n",
      "x bin/\r\n",
      "x bin/merge-batch-counts\r\n",
      "x bin/make-batch-counts\r\n",
      "x bin/compute-sclite-nbest\r\n",
      "x bin/pfsg-from-ngram\r\n",
      "x bin/rescore-acoustic\r\n",
      "x bin/nbest-error\r\n",
      "x bin/search-rover-combo\r\n",
      "x bin/rexport.gnumake\r\n",
      "x bin/make-multiword-pfsg\r\n",
      "x bin/rescore-minimize-wer\r\n",
      "x bin/rescore-reweight\r\n",
      "x bin/i686-m64/\r\n",
      "x bin/i686-m64/sentid-to-sclite\r\n",
      "x bin/i686-m64/reverse-lm\r\n",
      "x bin/i686-m64/select-vocab\r\n",
      "x bin/i686-m64/subset-context-ngrams\r\n",
      "x bin/i686-m64/maxalloc\r\n",
      "x bin/i686-m64/make-kn-counts\r\n",
      "x bin/i686-m64/wlat-to-pfsg\r\n",
      "x bin/i686-m64/wlat-stats\r\n",
      "x bin/i686-m64/pfsg-vocab\r\n",
      "x bin/i686-m64/rover-control-tying\r\n",
      "x bin/i686-m64/htklat-vocab\r\n",
      "x bin/i686-m64/remove-lowprob-ngrams\r\n",
      "x bin/i686-m64/nbest-words\r\n",
      "x bin/i686-m64/make-kn-discounts\r\n",
      "x bin/i686-m64/get-unigram-probs\r\n",
      "x bin/i686-m64/compute-oov-rate\r\n",
      "x bin/i686-m64/segment\r\n",
      "x bin/i686-m64/fngram\r\n",
      "x bin/i686-m64/compute-best-mix\r\n",
      "x bin/i686-m64/make-google-ngrams\r\n",
      "x bin/i686-m64/wlat-to-dot\r\n",
      "x bin/i686-m64/rover-control-weights\r\n",
      "x bin/i686-m64/make-nbest-pfsg\r\n",
      "x bin/i686-m64/merge-nbest\r\n",
      "x bin/i686-m64/concat-sausages\r\n",
      "x bin/i686-m64/add-ppls\r\n",
      "x bin/i686-m64/sort-lm\r\n",
      "x bin/i686-m64/add-classes-to-pfsg\r\n",
      "x bin/i686-m64/subtract-ppls\r\n",
      "x bin/i686-m64/compute-best-sentence-mix\r\n",
      "x bin/i686-m64/make-hiddens-lm\r\n",
      "x bin/i686-m64/metadb\r\n",
      "x bin/i686-m64/ppl-from-log\r\n",
      "x bin/i686-m64/add-pauses-to-pfsg\r\n",
      "x bin/i686-m64/nbest-lattice\r\n",
      "x bin/i686-m64/fngram-count\r\n",
      "x bin/i686-m64/bytelog-to-log10\r\n",
      "x bin/i686-m64/split-tagged-ngrams\r\n",
      "x bin/i686-m64/nbest-vocab\r\n",
      "x bin/i686-m64/ngram-count\r\n",
      "x bin/i686-m64/segment-nbest\r\n",
      "x bin/i686-m64/ngram\r\n",
      "x bin/i686-m64/reverse-text\r\n",
      "x bin/i686-m64/uniq-ngram-counts\r\n",
      "x bin/i686-m64/wordlat-to-lisp\r\n",
      "x bin/i686-m64/log10-to-bytelog\r\n",
      "x bin/i686-m64/filter-event-counts\r\n",
      "x bin/i686-m64/reverse-ngram-counts\r\n",
      "x bin/i686-m64/nbest-optimize-args-from-rover-control\r\n",
      "x bin/i686-m64/nbest-optimize\r\n",
      "x bin/i686-m64/hits-from-log\r\n",
      "x bin/i686-m64/combine-rover-controls\r\n",
      "x bin/i686-m64/combine-acoustic-scores\r\n",
      "x bin/i686-m64/pfsg-to-fsm\r\n",
      "x bin/i686-m64/find-reference-posteriors\r\n",
      "x bin/i686-m64/prettify\r\n",
      "x bin/i686-m64/make-abs-discount\r\n",
      "x bin/i686-m64/fsm-to-pfsg\r\n",
      "x bin/i686-m64/nbest-posteriors\r\n",
      "x bin/i686-m64/make-lm-subset\r\n",
      "x bin/i686-m64/nbest-pron-score\r\n",
      "x bin/i686-m64/nbest-oov-counts\r\n",
      "x bin/i686-m64/get-gt-counts\r\n",
      "x bin/i686-m64/make-sub-lm\r\n",
      "x bin/i686-m64/lattice-tool\r\n",
      "x bin/i686-m64/add-dummy-bows\r\n",
      "x bin/i686-m64/continuous-ngram-count\r\n",
      "x bin/i686-m64/sentid-to-ctm\r\n",
      "x bin/i686-m64/compute-best-rover-mix\r\n",
      "x bin/i686-m64/fix-ctm\r\n",
      "x bin/i686-m64/de-vq-lm\r\n",
      "x bin/i686-m64/hidden-ngram\r\n",
      "x bin/i686-m64/compare-ppls\r\n",
      "x bin/i686-m64/nbest-mix\r\n",
      "x bin/i686-m64/vp2text\r\n",
      "x bin/i686-m64/replace-unk-words\r\n",
      "x bin/i686-m64/pfsg-to-dot\r\n",
      "x bin/i686-m64/anti-ngram\r\n",
      "x bin/i686-m64/ngram-class\r\n",
      "x bin/i686-m64/tolower-ngram-counts\r\n",
      "x bin/i686-m64/make-ngram-pfsg\r\n",
      "x bin/i686-m64/uniform-classes\r\n",
      "x bin/i686-m64/nbest-rover-helper\r\n",
      "x bin/i686-m64/nbest2-to-nbest1\r\n",
      "x bin/i686-m64/context-ngrams\r\n",
      "x bin/i686-m64/classes-to-fsm\r\n",
      "x bin/i686-m64/replace-words-with-classes\r\n",
      "x bin/i686-m64/make-diacritic-map\r\n",
      "x bin/i686-m64/make-gt-discounts\r\n",
      "x bin/i686-m64/extract-skip-probs\r\n",
      "x bin/i686-m64/disambig\r\n",
      "x bin/i686-m64/multi-ngram\r\n",
      "x bin/i686-m64/ngram-merge\r\n",
      "x bin/nbest-rover\r\n",
      "x bin/empty-sentence-lm\r\n",
      "x bin/compare-sclite\r\n",
      "x bin/make-big-lm\r\n",
      "x bin/cumbin\r\n",
      "x bin/change-lm-vocab\r\n",
      "x bin/align-with-tags\r\n",
      "x bin/rescore-decipher\r\n",
      "x bin/compute-sclite\r\n"
     ]
    }
   ]
  },
  {
   "cell_type": "code",
   "source": [
    "!ngram -help"
   ],
   "metadata": {
    "id": "VEpB_buYwwzb",
    "colab": {
     "base_uri": "https://localhost:8080/"
    },
    "outputId": "30a4d228-59ac-4441-9a3e-8d80f516a380"
   },
   "execution_count": 3,
   "outputs": [
    {
     "name": "stdout",
     "output_type": "stream",
     "text": [
      "/bin/bash: ngram: command not found\r\n"
     ]
    }
   ]
  },
  {
   "cell_type": "code",
   "source": [
    "%pylab inline\n",
    "\n",
    "from pathlib import Path\n",
    "from tqdm import tqdm\n",
    "\n",
    "import torch\n",
    "from transformers import Wav2Vec2ForCTC, Wav2Vec2Processor\n",
    "from pyctcdecode import build_ctcdecoder\n",
    "from wavio import read\n",
    "import jiwer\n",
    "import arpa\n",
    "import json"
   ],
   "metadata": {
    "colab": {
     "base_uri": "https://localhost:8080/"
    },
    "id": "xVRPBrINwylz",
    "outputId": "299039a7-00c5-4e1d-c02d-564564af7d71"
   },
   "execution_count": 6,
   "outputs": [
    {
     "name": "stdout",
     "output_type": "stream",
     "text": [
      "%pylab is deprecated, use %matplotlib inline and import the required libraries.\n",
      "Populating the interactive namespace from numpy and matplotlib\n"
     ]
    }
   ]
  },
  {
   "cell_type": "code",
   "source": [
    "processor=Wav2Vec2Processor.from_pretrained('facebook/wav2vec2-base-10k-voxpopuli-ft-pl')\n",
    "model=Wav2Vec2ForCTC.from_pretrained('facebook/wav2vec2-base-10k-voxpopuli-ft-pl')"
   ],
   "metadata": {
    "colab": {
     "base_uri": "https://localhost:8080/",
     "height": 209,
     "referenced_widgets": [
      "637badebb7f147a286d59d466a6410f7",
      "875260459ef9493b8200dfffcaf71bdc",
      "97ed02af69804e69a5a49e90ddc1aab8",
      "fa26c300fe294d95b75475f3791e8372",
      "89bf3d8bc2a14dff95755e64afc9d078",
      "c051439e1dba462c912c2557833d0901",
      "3f87151a51eb4c31a872e45dcf7b95a8",
      "30aea8db91b041979a0c56bcccb46855",
      "872a01cf3237406daa3cc58e3765ead1",
      "5ad947dba54842338792eee4c6384ef3",
      "a28696fa1b4a46edadfdc87656d3b392",
      "75fb0fecf3b047beb2a0f49f450cfef0",
      "c56b6c3d93204c55b489943d6a2c37a8",
      "d60734bab47a49c987942e51898ed730",
      "6bc7287e87a142c0aa97b0971b773e41",
      "90892a2e6ded481daab4e2341d71beba",
      "85ff1330ad5a448dbc049f2f0ffdbc2a",
      "e95075f6d807446285b4951c2aeaa73e",
      "698d9320b6a44e5abf7a80b6ccb643c3",
      "3c22247365a8400d8cc82c3d392e49c9",
      "381f4b0b0835484f9eaa601e946dd12e",
      "b48898110bda45b79d4c9aefa86c5db6",
      "8dfeca85d6c441aab210d0b3a6cdb920",
      "10b216e506a04a21938fa6355074b0a0",
      "b3dd53c653e7404f8c12230c675a0986",
      "4a391493e1504f8da650bafd5a683d61",
      "6701ec70738f445c810db0a3938b034c",
      "901c9a1b63b04fc38cc864775fabaf8e",
      "72d5fb228c144313b81af9a1441c4f16",
      "b3bcd6d00b704fdcbe1149cd4e9910c4",
      "b51158d11e9f4b0385e7405516363e70",
      "498dac3f11a9439bb39bdb89d540d65b",
      "74e418ab5f124d93b98e54fe8fce0ede",
      "eb128f38e8914dcbaaf7fa1ff6fe51d9",
      "fe11248510724c70b8f36fe5db727760",
      "e28d0582c4ef48969611ed5f48953303",
      "61f1b25e5ca0478299d7aeb094fd92fa",
      "00516dd5ef06496795fa1fe7c457c3ac",
      "469b79c538ae40aa8f7a3f639568ae6d",
      "ce869fe929e04eb38d2247dd22e868b7",
      "8367d5ab3cec43749d3109a381dae174",
      "a68379a5983249c2be582478c8d1bff4",
      "08b1073a7485487381504f5acc6e6ed8",
      "0166a39a841e48208431b75e49d15c0d",
      "4d0be3b858e3488a8b026f4828a52c18",
      "90e34c66d2844a56a124007319e56970",
      "1fd5c7313c154900b7df1e535f489f3b",
      "7f0cfed5f31b4b2cabbac20879a832bb",
      "db4a5ab84db345cb9950a8ab6ccb61a2",
      "fde53f4fe81643ffb8e8144239d872f9",
      "ef8bb1a2ccb64a20a4baa0e4d5e16cf0",
      "2f618638ff824ff883713ad0e03845f9",
      "1ad7a672e6f041dd865e114c24c8ee48",
      "32c903b97f024270bf730a8a6b14c9c4",
      "02feb7e66b12482baf3aed8676c5ad17",
      "a01218c0672647518a2554c042919084",
      "e447c05416c14aaa9a263bf54b1b4ff9",
      "189085f97c1b4cd2a7aa6c35b9cb8d7a",
      "09a24863f64a4294819a924f47ef6a11",
      "dadc5cde09eb48118496b89188d413f7",
      "234f47015f9443fd9a08fddc1b22c16f",
      "862e1a630d704912a992d9575b1b3dde",
      "99cc29ebfd16478ab2a915a6b82fac86",
      "371a4105a4b04cd3b5a50bea0ae022d8",
      "f70417b1316e44b6bfaddfcf18147dae",
      "bb4c5d4fdac44c2a8f295ab560e7e343"
     ]
    },
    "id": "Fi_lTqTZxsCY",
    "outputId": "c4874a25-2412-4871-f72a-bb699163ae68"
   },
   "execution_count": 7,
   "outputs": []
  },
  {
   "cell_type": "code",
   "source": [
    "%ls -lh ~/.cache/huggingface/hub/models--facebook--wav2vec2-base-10k-voxpopuli-ft-pl/blobs"
   ],
   "metadata": {
    "colab": {
     "base_uri": "https://localhost:8080/"
    },
    "id": "r2YLJaSZyFIH",
    "outputId": "a8a36651-05a1-44f9-d851-948bf3df9bf0"
   },
   "execution_count": 8,
   "outputs": [
    {
     "name": "stdout",
     "output_type": "stream",
     "text": [
      "total 737736\r\n",
      "-rw-------  1 kuba  staff   360M Nov 11 22:02 1630e0992935095da6da80d65cc2caa4d7492faea8786d7f2a2f9bca09926329\r\n",
      "-rw-------  1 kuba  staff   1.3K Nov 11 22:01 23377f5bfd104ebafd8d83daa32149c88371cc1b\r\n",
      "-rw-------  1 kuba  staff    85B Nov 11 22:03 25bc39604f72700b3b8e10bd69bb2f227157edd1\r\n",
      "-rw-------  1 kuba  staff   381B Nov 11 22:03 2e0c13460897d00a50a7fa1c524bf1f2fcc152b9\r\n",
      "-rw-------  1 kuba  staff   138B Nov 11 22:03 43772fe82c516617b389124d359003795a06ce95\r\n",
      "-rw-------  1 kuba  staff   213B Nov 11 22:03 8df8da1de6563b3f11638f4df5f2336f4ca94c04\r\n"
     ]
    }
   ]
  },
  {
   "cell_type": "code",
   "source": [
    "files={}\n",
    "for f in Path('./recordings/calls/').glob('*.wav'):\n",
    "  data=read(str(f))\n",
    "  files[f.stem]=data.data.squeeze().astype('float32')"
   ],
   "metadata": {
    "id": "tIkkEzsJytqx"
   },
   "execution_count": 22,
   "outputs": []
  },
  {
   "cell_type": "code",
   "source": [
    "Fs=data.rate\n",
    "for name,d in files.items():\n",
    "  print(f'{name}: {d.size/Fs:0.2f}s')"
   ],
   "metadata": {
    "colab": {
     "base_uri": "https://localhost:8080/"
    },
    "id": "x6fpP6d0ywrg",
    "outputId": "3af79e50-19dd-433e-deb8-9f7ef84c51fb"
   },
   "execution_count": 24,
   "outputs": [
    {
     "name": "stdout",
     "output_type": "stream",
     "text": [
      "gC1: 1.75s\n",
      "pA1: 1.25s\n",
      "gE3: 1.50s\n",
      "kG5: 2.25s\n",
      "gE6: 1.50s\n",
      "wB2: 1.50s\n",
      "wE6: 1.50s\n"
     ]
    }
   ]
  },
  {
   "cell_type": "markdown",
   "source": [
    "Downsample recordings"
   ],
   "metadata": {
    "id": "KibXg2cg1bty"
   }
  },
  {
   "cell_type": "code",
   "source": [
    "import librosa\n",
    "\n",
    "target_sr=16000\n",
    "for file in files:\n",
    "  files[file] = librosa.resample(files[file], orig_sr=Fs, target_sr=target_sr)\n",
    "Fs = target_sr"
   ],
   "metadata": {
    "id": "VFnIb9mF1X-f",
    "colab": {
     "base_uri": "https://localhost:8080/",
     "height": 215
    },
    "outputId": "553d17cd-ff76-4da3-d48c-2f6085efabb2"
   },
   "execution_count": 29,
   "outputs": []
  },
  {
   "cell_type": "code",
   "source": [
    "import matplotlib.pyplot as plt\n",
    "\n",
    "plt.figure(figsize=(15,5))\n",
    "plt.plot(list(files.values())[0])"
   ],
   "metadata": {
    "colab": {
     "base_uri": "https://localhost:8080/",
     "height": 337
    },
    "id": "Mvv3XGHEyzvy",
    "outputId": "b656b3ab-fdd0-494d-f992-32428e3df31e"
   },
   "execution_count": 31,
   "outputs": [
    {
     "data": {
      "text/plain": "[<matplotlib.lines.Line2D at 0x7fe39ea80f70>]"
     },
     "execution_count": 31,
     "metadata": {},
     "output_type": "execute_result"
    },
    {
     "data": {
      "text/plain": "<Figure size 1500x500 with 1 Axes>",
      "image/png": "[encoded data removed]"
     },
     "metadata": {},
     "output_type": "display_data"
    }
   ]
  },
  {
   "cell_type": "code",
   "source": [
    "trans={}\n",
    "for name,data in tqdm(files.items()):\n",
    "  feats=processor(data,sampling_rate=Fs,return_tensors='pt',padding=True)\n",
    "  out=model(input_values=feats.input_values)\n",
    "  predicted_ids=torch.argmax(out.logits,dim=-1)\n",
    "  sent=processor.batch_decode(predicted_ids)[0]\n",
    "  trans[name]=sent"
   ],
   "metadata": {
    "colab": {
     "base_uri": "https://localhost:8080/",
     "height": 562
    },
    "id": "wBy-14pUy3MB",
    "outputId": "1cf00606-9a33-499d-c5d4-f21c2ecfb85c"
   },
   "execution_count": 33,
   "outputs": [
    {
     "name": "stderr",
     "output_type": "stream",
     "text": [
      "100%|██████████| 7/7 [00:01<00:00,  4.10it/s]\n"
     ]
    }
   ]
  },
  {
   "cell_type": "code",
   "source": [
    "assert Fs == 16000"
   ],
   "metadata": {
    "colab": {
     "base_uri": "https://localhost:8080/"
    },
    "id": "0_8nYUhF0aKL",
    "outputId": "500b6341-3821-4519-92d0-348de80e56de"
   },
   "execution_count": 37,
   "outputs": []
  },
  {
   "cell_type": "code",
   "source": [
    "trans"
   ],
   "metadata": {
    "colab": {
     "base_uri": "https://localhost:8080/"
    },
    "id": "k0ST4OMu0a5f",
    "outputId": "ea428ff5-7ab6-4d23-e720-f60666aea46b"
   },
   "execution_count": 38,
   "outputs": [
    {
     "data": {
      "text/plain": "{'gC1': 'ferna cyln',\n 'pA1': 'piąnna a jeden',\n 'gE3': 'koniecna etrzy',\n 'kG5': 'rólna iepięcie',\n 'gE6': 'konna esześcia',\n 'wB2': 'eranadedwa',\n 'wE6': 'jeża na eszeście'}"
     },
     "execution_count": 38,
     "metadata": {},
     "output_type": "execute_result"
    }
   ]
  },
  {
   "cell_type": "code",
   "source": [
    "with open('recordings/calls/text.json') as f:\n",
    "  ref = json.loads(f.read())"
   ],
   "metadata": {
    "id": "twujZ7724eEt"
   },
   "execution_count": 39,
   "outputs": []
  },
  {
   "cell_type": "code",
   "source": [
    "h=[]\n",
    "r=[]\n",
    "\n",
    "for name in trans.keys():\n",
    "  print(f'>>{name}')\n",
    "  print(trans[name])\n",
    "  print(ref[name])\n",
    "  print('')\n",
    "\n",
    "  h.append(trans[name])\n",
    "  r.append(ref[name])\n",
    "\n",
    "print(jiwer.compute_measures(r,h))"
   ],
   "metadata": {
    "colab": {
     "base_uri": "https://localhost:8080/",
     "height": 341
    },
    "id": "YNdGMtZmNdfv",
    "outputId": "1fc92626-c237-4e56-ff91-54c8ab72d112"
   },
   "execution_count": 40,
   "outputs": [
    {
     "name": "stdout",
     "output_type": "stream",
     "text": [
      ">>gC1\n",
      "ferna cyln\n",
      "laufer na c jeden\n",
      "\n",
      ">>pA1\n",
      "piąnna a jeden\n",
      "pion na a jeden\n",
      "\n",
      ">>gE3\n",
      "koniecna etrzy\n",
      "goniec na e trzy\n",
      "\n",
      ">>kG5\n",
      "rólna iepięcie\n",
      "król na g pięć\n",
      "\n",
      ">>gE6\n",
      "konna esześcia\n",
      "koń na e sześć\n",
      "\n",
      ">>wB2\n",
      "eranadedwa\n",
      "wieża na b dwa\n",
      "\n",
      ">>wE6\n",
      "jeża na eszeście\n",
      "wieża na e sześć\n",
      "\n",
      "{'wer': 0.8928571428571429, 'mer': 0.8928571428571429, 'wil': 0.9785714285714285, 'wip': 0.02142857142857143, 'hits': 3, 'substitutions': 12, 'deletions': 13, 'insertions': 0}\n"
     ]
    }
   ]
  },
  {
   "cell_type": "code",
   "source": [
    "with open('./chess_corpus.json') as f:\n",
    "  chess_corpus = json.loads(f.read())"
   ],
   "metadata": {
    "id": "HuqEYa7xN5dA"
   },
   "execution_count": 45,
   "outputs": []
  },
  {
   "cell_type": "code",
   "source": [
    "chess_calls = []\n",
    "for figure in chess_corpus['figury']:\n",
    "  for letter in chess_corpus['litery']:\n",
    "    for number in chess_corpus['numery']:\n",
    "      chess_calls.append(f\"{figure} na {letter} {number} \\n\")"
   ],
   "metadata": {
    "id": "QbaSZGKp7B0f"
   },
   "execution_count": 46,
   "outputs": []
  },
  {
   "cell_type": "code",
   "source": [
    "with open(\"chess_corpus.txt\", \"w\") as f:\n",
    "  f.write(\"\".join([c for c in chess_calls]))"
   ],
   "metadata": {
    "id": "2fr7sTbwAL0m"
   },
   "execution_count": 47,
   "outputs": []
  },
  {
   "cell_type": "code",
   "source": [
    "!head -n 10 chess_corpus.txt"
   ],
   "metadata": {
    "colab": {
     "base_uri": "https://localhost:8080/"
    },
    "id": "MIezu0TLI4jH",
    "outputId": "3f2151d3-d8ac-4785-9a70-751b8cacd961"
   },
   "execution_count": 48,
   "outputs": [
    {
     "name": "stdout",
     "output_type": "stream",
     "text": [
      "goniec na a jeden \r\n",
      "goniec na a dwa \r\n",
      "goniec na a trzy \r\n",
      "goniec na a cztery \r\n",
      "goniec na a pięć \r\n",
      "goniec na a sześć \r\n",
      "goniec na a siedem \r\n",
      "goniec na a osiem \r\n",
      "goniec na a dziewięć \r\n",
      "goniec na b jeden \r\n"
     ]
    }
   ]
  },
  {
   "cell_type": "code",
   "source": [
    "!ngram-count -text chess_corpus.txt -order 3 -wbdiscount -unk -lm chess.arpa"
   ],
   "metadata": {
    "id": "oV_dX9dOI7MG"
   },
   "execution_count": 49,
   "outputs": [
    {
     "name": "stdout",
     "output_type": "stream",
     "text": [
      "/bin/bash: ngram-count: command not found\r\n"
     ]
    }
   ]
  },
  {
   "cell_type": "code",
   "source": [
    "!ngram -lm chess.arpa -unk -gen 10"
   ],
   "metadata": {
    "colab": {
     "base_uri": "https://localhost:8080/"
    },
    "id": "w-HOA_CfJU5G",
    "outputId": "7e3b97e5-bc9f-4378-a37f-a6b35b80515c"
   },
   "execution_count": 54,
   "outputs": [
    {
     "name": "stdout",
     "output_type": "stream",
     "text": [
      "/bin/bash: /usr/local/bin/ngram: cannot execute binary file\r\n"
     ]
    }
   ]
  },
  {
   "cell_type": "code",
   "source": [
    "tokens=[x[0] for x in sorted(processor.tokenizer.get_vocab().items(),key=lambda x:x[1])]\n",
    "print(tokens)\n",
    "tokens[4]=' '\n",
    "print(tokens)"
   ],
   "metadata": {
    "colab": {
     "base_uri": "https://localhost:8080/"
    },
    "id": "APQxBy2JKWQL",
    "outputId": "164bafe1-9f35-4741-8bd0-12878f5c7bd8"
   },
   "execution_count": null,
   "outputs": [
    {
     "output_type": "stream",
     "name": "stdout",
     "text": [
      "['<pad>', '<s>', '</s>', '<unk>', '|', 'e', 'a', 'i', 'o', 'n', 'z', 'r', 'w', 's', 't', 'c', 'y', 'p', 'd', 'k', 'm', 'j', 'u', 'l', 'b', 'g', 'ł', 'h', 'ą', 'ę', 'ż', 'ó', 'ś', 'ć', 'f', 'ń', 'ź', 'v', 'x', 'q', '1']\n",
      "['<pad>', '<s>', '</s>', '<unk>', ' ', 'e', 'a', 'i', 'o', 'n', 'z', 'r', 'w', 's', 't', 'c', 'y', 'p', 'd', 'k', 'm', 'j', 'u', 'l', 'b', 'g', 'ł', 'h', 'ą', 'ę', 'ż', 'ó', 'ś', 'ć', 'f', 'ń', 'ź', 'v', 'x', 'q', '1']\n"
     ]
    }
   ]
  },
  {
   "cell_type": "code",
   "source": [
    "decoder=build_ctcdecoder(tokens,'chess.arpa',alpha=2.0,beta=-1.0) # todo adjust alpha, beta"
   ],
   "metadata": {
    "colab": {
     "base_uri": "https://localhost:8080/"
    },
    "id": "y5KJoSLLKqbW",
    "outputId": "1e37049d-3eb0-44b6-d8b8-1b1194996d47"
   },
   "execution_count": null,
   "outputs": [
    {
     "output_type": "stream",
     "name": "stderr",
     "text": [
      "WARNING:pyctcdecode.alphabet:Found entries of length > 1 in alphabet. This is unusual unless style is BPE, but the alphabet was not recognized as BPE type. Is this correct?\n",
      "WARNING:pyctcdecode.language_model:Only 28 unigrams passed as vocabulary. Is this small or artificial data?\n"
     ]
    }
   ]
  },
  {
   "cell_type": "code",
   "source": [
    "trans={}\n",
    "for name,data in tqdm(files.items()):\n",
    "  feats=processor(data,sampling_rate=Fs,return_tensors='pt',padding=True).to('cuda')\n",
    "  out=model(input_values=feats.input_values)\n",
    "  sent=decoder.decode(out.logits.cpu().detach().numpy()[0])\n",
    "  trans[name]=sent"
   ],
   "metadata": {
    "colab": {
     "base_uri": "https://localhost:8080/"
    },
    "id": "JQssCufFKwNm",
    "outputId": "db485140-b01e-4758-c40a-c63e3bf26269"
   },
   "execution_count": null,
   "outputs": [
    {
     "output_type": "stream",
     "name": "stderr",
     "text": [
      "0it [00:00, ?it/s]\n"
     ]
    }
   ]
  },
  {
   "cell_type": "code",
   "source": [
    "h=[]\n",
    "r=[]\n",
    "\n",
    "for name in trans.keys():\n",
    "  print(f'>>{name}')\n",
    "  print(trans[name])\n",
    "  print(ref[name])\n",
    "  print('')\n",
    "\n",
    "  h.append(trans[name])\n",
    "  r.append(ref[name])\n",
    "\n",
    "print(jiwer.compute_measures(r,h))"
   ],
   "metadata": {
    "colab": {
     "base_uri": "https://localhost:8080/",
     "height": 341
    },
    "id": "47vIKog8K0FV",
    "outputId": "29c18cc6-5eb7-425b-8838-61c1988497d8"
   },
   "execution_count": null,
   "outputs": [
    {
     "output_type": "error",
     "ename": "ValueError",
     "evalue": "ignored",
     "traceback": [
      "\u001B[0;31m---------------------------------------------------------------------------\u001B[0m",
      "\u001B[0;31mValueError\u001B[0m                                Traceback (most recent call last)",
      "\u001B[0;32m<ipython-input-30-a785bc2f437f>\u001B[0m in \u001B[0;36m<module>\u001B[0;34m\u001B[0m\n\u001B[1;32m     11\u001B[0m   \u001B[0mr\u001B[0m\u001B[0;34m.\u001B[0m\u001B[0mappend\u001B[0m\u001B[0;34m(\u001B[0m\u001B[0mref\u001B[0m\u001B[0;34m[\u001B[0m\u001B[0mname\u001B[0m\u001B[0;34m]\u001B[0m\u001B[0;34m)\u001B[0m\u001B[0;34m\u001B[0m\u001B[0;34m\u001B[0m\u001B[0m\n\u001B[1;32m     12\u001B[0m \u001B[0;34m\u001B[0m\u001B[0m\n\u001B[0;32m---> 13\u001B[0;31m \u001B[0mprint\u001B[0m\u001B[0;34m(\u001B[0m\u001B[0mjiwer\u001B[0m\u001B[0;34m.\u001B[0m\u001B[0mcompute_measures\u001B[0m\u001B[0;34m(\u001B[0m\u001B[0mr\u001B[0m\u001B[0;34m,\u001B[0m\u001B[0mh\u001B[0m\u001B[0;34m)\u001B[0m\u001B[0;34m)\u001B[0m\u001B[0;34m\u001B[0m\u001B[0;34m\u001B[0m\u001B[0m\n\u001B[0m",
      "\u001B[0;32m/usr/local/lib/python3.7/dist-packages/jiwer/measures.py\u001B[0m in \u001B[0;36mcompute_measures\u001B[0;34m(truth, hypothesis, truth_transform, hypothesis_transform)\u001B[0m\n\u001B[1;32m    181\u001B[0m     \u001B[0;31m# Preprocess truth and hypothesis\u001B[0m\u001B[0;34m\u001B[0m\u001B[0;34m\u001B[0m\u001B[0;34m\u001B[0m\u001B[0m\n\u001B[1;32m    182\u001B[0m     truth, hypothesis = _preprocess(\n\u001B[0;32m--> 183\u001B[0;31m         \u001B[0mtruth\u001B[0m\u001B[0;34m,\u001B[0m \u001B[0mhypothesis\u001B[0m\u001B[0;34m,\u001B[0m \u001B[0mtruth_transform\u001B[0m\u001B[0;34m,\u001B[0m \u001B[0mhypothesis_transform\u001B[0m\u001B[0;34m\u001B[0m\u001B[0;34m\u001B[0m\u001B[0m\n\u001B[0m\u001B[1;32m    184\u001B[0m     )\n\u001B[1;32m    185\u001B[0m \u001B[0;34m\u001B[0m\u001B[0m\n",
      "\u001B[0;32m/usr/local/lib/python3.7/dist-packages/jiwer/measures.py\u001B[0m in \u001B[0;36m_preprocess\u001B[0;34m(truth, hypothesis, truth_transform, hypothesis_transform)\u001B[0m\n\u001B[1;32m    305\u001B[0m     \u001B[0;32mif\u001B[0m \u001B[0;32mnot\u001B[0m \u001B[0m_is_list_of_list_of_strings\u001B[0m\u001B[0;34m(\u001B[0m\u001B[0mtransformed_truth\u001B[0m\u001B[0;34m,\u001B[0m \u001B[0mrequire_non_empty_lists\u001B[0m\u001B[0;34m=\u001B[0m\u001B[0;32mTrue\u001B[0m\u001B[0;34m)\u001B[0m\u001B[0;34m:\u001B[0m\u001B[0;34m\u001B[0m\u001B[0;34m\u001B[0m\u001B[0m\n\u001B[1;32m    306\u001B[0m         raise ValueError(\n\u001B[0;32m--> 307\u001B[0;31m             \u001B[0;34m\"truth should be a list of list of strings after transform which are non-empty\"\u001B[0m\u001B[0;34m\u001B[0m\u001B[0;34m\u001B[0m\u001B[0m\n\u001B[0m\u001B[1;32m    308\u001B[0m         )\n\u001B[1;32m    309\u001B[0m     if not _is_list_of_list_of_strings(\n",
      "\u001B[0;31mValueError\u001B[0m: truth should be a list of list of strings after transform which are non-empty"
     ]
    }
   ]
  },
  {
   "cell_type": "code",
   "source": [],
   "metadata": {
    "id": "qz_09-eyLHob"
   },
   "execution_count": null,
   "outputs": []
  }
 ]
}